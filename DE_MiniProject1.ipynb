{
 "cells": [
  {
   "cell_type": "markdown",
   "id": "03a3a954-9ff2-429a-beb3-e1aeb47ce69c",
   "metadata": {},
   "source": [
    "****CENSUS DATA STANDARDIZATION AND ANALYSIS PIPELINE****"
   ]
  },
  {
   "cell_type": "code",
   "execution_count": 3,
   "id": "e544c0fa-f7a6-4ed6-9d45-1e7aed089b16",
   "metadata": {},
   "outputs": [],
   "source": [
    "import pandas as pd"
   ]
  },
  {
   "cell_type": "code",
   "execution_count": 158,
   "id": "231a6dea-ca42-4b5c-887f-2f62263e7062",
   "metadata": {},
   "outputs": [],
   "source": [
    "df = pd.read_csv('census_2011.csv',delimiter=',')"
   ]
  },
  {
   "cell_type": "code",
   "execution_count": 160,
   "id": "b5ca2729-82f0-4b60-8e84-44d784b25740",
   "metadata": {},
   "outputs": [
    {
     "data": {
      "text/html": [
       "<div>\n",
       "<style scoped>\n",
       "    .dataframe tbody tr th:only-of-type {\n",
       "        vertical-align: middle;\n",
       "    }\n",
       "\n",
       "    .dataframe tbody tr th {\n",
       "        vertical-align: top;\n",
       "    }\n",
       "\n",
       "    .dataframe thead th {\n",
       "        text-align: right;\n",
       "    }\n",
       "</style>\n",
       "<table border=\"1\" class=\"dataframe\">\n",
       "  <thead>\n",
       "    <tr style=\"text-align: right;\">\n",
       "      <th></th>\n",
       "      <th>District code</th>\n",
       "      <th>State name</th>\n",
       "      <th>District name</th>\n",
       "      <th>Population</th>\n",
       "      <th>Male</th>\n",
       "      <th>Female</th>\n",
       "      <th>Literate</th>\n",
       "      <th>Male_Literate</th>\n",
       "      <th>Female_Literate</th>\n",
       "      <th>SC</th>\n",
       "      <th>...</th>\n",
       "      <th>Power_Parity_Rs_90000_150000</th>\n",
       "      <th>Power_Parity_Rs_45000_150000</th>\n",
       "      <th>Power_Parity_Rs_150000_240000</th>\n",
       "      <th>Power_Parity_Rs_240000_330000</th>\n",
       "      <th>Power_Parity_Rs_150000_330000</th>\n",
       "      <th>Power_Parity_Rs_330000_425000</th>\n",
       "      <th>Power_Parity_Rs_425000_545000</th>\n",
       "      <th>Power_Parity_Rs_330000_545000</th>\n",
       "      <th>Power_Parity_Above_Rs_545000</th>\n",
       "      <th>Total_Power_Parity</th>\n",
       "    </tr>\n",
       "  </thead>\n",
       "  <tbody>\n",
       "    <tr>\n",
       "      <th>0</th>\n",
       "      <td>1</td>\n",
       "      <td>JAMMU AND KASHMIR</td>\n",
       "      <td>Kupwara</td>\n",
       "      <td>870354.0</td>\n",
       "      <td>474190.0</td>\n",
       "      <td>396164.0</td>\n",
       "      <td>439654.0</td>\n",
       "      <td>282823.0</td>\n",
       "      <td>156831.0</td>\n",
       "      <td>1048.0</td>\n",
       "      <td>...</td>\n",
       "      <td>94.0</td>\n",
       "      <td>588.0</td>\n",
       "      <td>71.0</td>\n",
       "      <td>101.0</td>\n",
       "      <td>172.0</td>\n",
       "      <td>74.0</td>\n",
       "      <td>10.0</td>\n",
       "      <td>84.0</td>\n",
       "      <td>15.0</td>\n",
       "      <td>1119.0</td>\n",
       "    </tr>\n",
       "    <tr>\n",
       "      <th>1</th>\n",
       "      <td>2</td>\n",
       "      <td>JAMMU AND KASHMIR</td>\n",
       "      <td>Badgam</td>\n",
       "      <td>753745.0</td>\n",
       "      <td>NaN</td>\n",
       "      <td>355704.0</td>\n",
       "      <td>335649.0</td>\n",
       "      <td>207741.0</td>\n",
       "      <td>127908.0</td>\n",
       "      <td>NaN</td>\n",
       "      <td>...</td>\n",
       "      <td>126.0</td>\n",
       "      <td>562.0</td>\n",
       "      <td>72.0</td>\n",
       "      <td>89.0</td>\n",
       "      <td>161.0</td>\n",
       "      <td>96.0</td>\n",
       "      <td>28.0</td>\n",
       "      <td>124.0</td>\n",
       "      <td>18.0</td>\n",
       "      <td>1066.0</td>\n",
       "    </tr>\n",
       "    <tr>\n",
       "      <th>2</th>\n",
       "      <td>3</td>\n",
       "      <td>JAMMU AND KASHMIR</td>\n",
       "      <td>Leh(Ladakh)</td>\n",
       "      <td>133487.0</td>\n",
       "      <td>78971.0</td>\n",
       "      <td>54516.0</td>\n",
       "      <td>93770.0</td>\n",
       "      <td>62834.0</td>\n",
       "      <td>30936.0</td>\n",
       "      <td>488.0</td>\n",
       "      <td>...</td>\n",
       "      <td>46.0</td>\n",
       "      <td>122.0</td>\n",
       "      <td>15.0</td>\n",
       "      <td>22.0</td>\n",
       "      <td>NaN</td>\n",
       "      <td>20.0</td>\n",
       "      <td>NaN</td>\n",
       "      <td>NaN</td>\n",
       "      <td>17.0</td>\n",
       "      <td>242.0</td>\n",
       "    </tr>\n",
       "    <tr>\n",
       "      <th>3</th>\n",
       "      <td>4</td>\n",
       "      <td>JAMMU AND KASHMIR</td>\n",
       "      <td>Kargil</td>\n",
       "      <td>140802.0</td>\n",
       "      <td>NaN</td>\n",
       "      <td>63017.0</td>\n",
       "      <td>NaN</td>\n",
       "      <td>56301.0</td>\n",
       "      <td>29935.0</td>\n",
       "      <td>18.0</td>\n",
       "      <td>...</td>\n",
       "      <td>27.0</td>\n",
       "      <td>114.0</td>\n",
       "      <td>12.0</td>\n",
       "      <td>18.0</td>\n",
       "      <td>30.0</td>\n",
       "      <td>19.0</td>\n",
       "      <td>3.0</td>\n",
       "      <td>22.0</td>\n",
       "      <td>7.0</td>\n",
       "      <td>214.0</td>\n",
       "    </tr>\n",
       "    <tr>\n",
       "      <th>4</th>\n",
       "      <td>5</td>\n",
       "      <td>JAMMU AND KASHMIR</td>\n",
       "      <td>Punch</td>\n",
       "      <td>NaN</td>\n",
       "      <td>251899.0</td>\n",
       "      <td>224936.0</td>\n",
       "      <td>261724.0</td>\n",
       "      <td>163333.0</td>\n",
       "      <td>98391.0</td>\n",
       "      <td>556.0</td>\n",
       "      <td>...</td>\n",
       "      <td>78.0</td>\n",
       "      <td>346.0</td>\n",
       "      <td>35.0</td>\n",
       "      <td>50.0</td>\n",
       "      <td>85.0</td>\n",
       "      <td>59.0</td>\n",
       "      <td>8.0</td>\n",
       "      <td>67.0</td>\n",
       "      <td>12.0</td>\n",
       "      <td>629.0</td>\n",
       "    </tr>\n",
       "    <tr>\n",
       "      <th>...</th>\n",
       "      <td>...</td>\n",
       "      <td>...</td>\n",
       "      <td>...</td>\n",
       "      <td>...</td>\n",
       "      <td>...</td>\n",
       "      <td>...</td>\n",
       "      <td>...</td>\n",
       "      <td>...</td>\n",
       "      <td>...</td>\n",
       "      <td>...</td>\n",
       "      <td>...</td>\n",
       "      <td>...</td>\n",
       "      <td>...</td>\n",
       "      <td>...</td>\n",
       "      <td>...</td>\n",
       "      <td>...</td>\n",
       "      <td>...</td>\n",
       "      <td>...</td>\n",
       "      <td>...</td>\n",
       "      <td>...</td>\n",
       "      <td>...</td>\n",
       "    </tr>\n",
       "    <tr>\n",
       "      <th>635</th>\n",
       "      <td>636</td>\n",
       "      <td>PONDICHERRY</td>\n",
       "      <td>Mahe</td>\n",
       "      <td>41816.0</td>\n",
       "      <td>19143.0</td>\n",
       "      <td>22673.0</td>\n",
       "      <td>36470.0</td>\n",
       "      <td>16610.0</td>\n",
       "      <td>19860.0</td>\n",
       "      <td>144.0</td>\n",
       "      <td>...</td>\n",
       "      <td>2316.0</td>\n",
       "      <td>4309.0</td>\n",
       "      <td>1370.0</td>\n",
       "      <td>838.0</td>\n",
       "      <td>2208.0</td>\n",
       "      <td>576.0</td>\n",
       "      <td>978.0</td>\n",
       "      <td>1554.0</td>\n",
       "      <td>1446.0</td>\n",
       "      <td>10027.0</td>\n",
       "    </tr>\n",
       "    <tr>\n",
       "      <th>636</th>\n",
       "      <td>637</td>\n",
       "      <td>PONDICHERRY</td>\n",
       "      <td>Karaikal</td>\n",
       "      <td>200222.0</td>\n",
       "      <td>97809.0</td>\n",
       "      <td>102413.0</td>\n",
       "      <td>154916.0</td>\n",
       "      <td>79903.0</td>\n",
       "      <td>75013.0</td>\n",
       "      <td>35348.0</td>\n",
       "      <td>...</td>\n",
       "      <td>1063.0</td>\n",
       "      <td>2408.0</td>\n",
       "      <td>665.0</td>\n",
       "      <td>340.0</td>\n",
       "      <td>1005.0</td>\n",
       "      <td>246.0</td>\n",
       "      <td>NaN</td>\n",
       "      <td>729.0</td>\n",
       "      <td>341.0</td>\n",
       "      <td>4890.0</td>\n",
       "    </tr>\n",
       "    <tr>\n",
       "      <th>637</th>\n",
       "      <td>638</td>\n",
       "      <td>ANDAMAN AND NICOBAR ISLANDS</td>\n",
       "      <td>Nicobars</td>\n",
       "      <td>36842.0</td>\n",
       "      <td>20727.0</td>\n",
       "      <td>NaN</td>\n",
       "      <td>25332.0</td>\n",
       "      <td>15397.0</td>\n",
       "      <td>9935.0</td>\n",
       "      <td>0.0</td>\n",
       "      <td>...</td>\n",
       "      <td>685.0</td>\n",
       "      <td>1895.0</td>\n",
       "      <td>212.0</td>\n",
       "      <td>134.0</td>\n",
       "      <td>346.0</td>\n",
       "      <td>70.0</td>\n",
       "      <td>120.0</td>\n",
       "      <td>190.0</td>\n",
       "      <td>84.0</td>\n",
       "      <td>3151.0</td>\n",
       "    </tr>\n",
       "    <tr>\n",
       "      <th>638</th>\n",
       "      <td>639</td>\n",
       "      <td>ANDAMAN AND NICOBAR ISLANDS</td>\n",
       "      <td>North  AND Middle Andaman</td>\n",
       "      <td>105597.0</td>\n",
       "      <td>54861.0</td>\n",
       "      <td>50736.0</td>\n",
       "      <td>78683.0</td>\n",
       "      <td>43186.0</td>\n",
       "      <td>35497.0</td>\n",
       "      <td>0.0</td>\n",
       "      <td>...</td>\n",
       "      <td>685.0</td>\n",
       "      <td>1895.0</td>\n",
       "      <td>212.0</td>\n",
       "      <td>NaN</td>\n",
       "      <td>346.0</td>\n",
       "      <td>70.0</td>\n",
       "      <td>120.0</td>\n",
       "      <td>190.0</td>\n",
       "      <td>84.0</td>\n",
       "      <td>3151.0</td>\n",
       "    </tr>\n",
       "    <tr>\n",
       "      <th>639</th>\n",
       "      <td>640</td>\n",
       "      <td>ANDAMAN AND NICOBAR ISLANDS</td>\n",
       "      <td>South Andaman</td>\n",
       "      <td>NaN</td>\n",
       "      <td>127283.0</td>\n",
       "      <td>110859.0</td>\n",
       "      <td>190266.0</td>\n",
       "      <td>105794.0</td>\n",
       "      <td>84472.0</td>\n",
       "      <td>0.0</td>\n",
       "      <td>...</td>\n",
       "      <td>1371.0</td>\n",
       "      <td>3020.0</td>\n",
       "      <td>649.0</td>\n",
       "      <td>368.0</td>\n",
       "      <td>1017.0</td>\n",
       "      <td>265.0</td>\n",
       "      <td>497.0</td>\n",
       "      <td>762.0</td>\n",
       "      <td>376.0</td>\n",
       "      <td>5782.0</td>\n",
       "    </tr>\n",
       "  </tbody>\n",
       "</table>\n",
       "<p>640 rows × 118 columns</p>\n",
       "</div>"
      ],
      "text/plain": [
       "     District code                   State name              District name  \\\n",
       "0                1            JAMMU AND KASHMIR                    Kupwara   \n",
       "1                2            JAMMU AND KASHMIR                     Badgam   \n",
       "2                3            JAMMU AND KASHMIR                Leh(Ladakh)   \n",
       "3                4            JAMMU AND KASHMIR                     Kargil   \n",
       "4                5            JAMMU AND KASHMIR                      Punch   \n",
       "..             ...                          ...                        ...   \n",
       "635            636                  PONDICHERRY                       Mahe   \n",
       "636            637                  PONDICHERRY                   Karaikal   \n",
       "637            638  ANDAMAN AND NICOBAR ISLANDS                   Nicobars   \n",
       "638            639  ANDAMAN AND NICOBAR ISLANDS  North  AND Middle Andaman   \n",
       "639            640  ANDAMAN AND NICOBAR ISLANDS              South Andaman   \n",
       "\n",
       "     Population      Male    Female  Literate  Male_Literate  Female_Literate  \\\n",
       "0      870354.0  474190.0  396164.0  439654.0       282823.0         156831.0   \n",
       "1      753745.0       NaN  355704.0  335649.0       207741.0         127908.0   \n",
       "2      133487.0   78971.0   54516.0   93770.0        62834.0          30936.0   \n",
       "3      140802.0       NaN   63017.0       NaN        56301.0          29935.0   \n",
       "4           NaN  251899.0  224936.0  261724.0       163333.0          98391.0   \n",
       "..          ...       ...       ...       ...            ...              ...   \n",
       "635     41816.0   19143.0   22673.0   36470.0        16610.0          19860.0   \n",
       "636    200222.0   97809.0  102413.0  154916.0        79903.0          75013.0   \n",
       "637     36842.0   20727.0       NaN   25332.0        15397.0           9935.0   \n",
       "638    105597.0   54861.0   50736.0   78683.0        43186.0          35497.0   \n",
       "639         NaN  127283.0  110859.0  190266.0       105794.0          84472.0   \n",
       "\n",
       "          SC  ...  Power_Parity_Rs_90000_150000  Power_Parity_Rs_45000_150000  \\\n",
       "0     1048.0  ...                          94.0                         588.0   \n",
       "1        NaN  ...                         126.0                         562.0   \n",
       "2      488.0  ...                          46.0                         122.0   \n",
       "3       18.0  ...                          27.0                         114.0   \n",
       "4      556.0  ...                          78.0                         346.0   \n",
       "..       ...  ...                           ...                           ...   \n",
       "635    144.0  ...                        2316.0                        4309.0   \n",
       "636  35348.0  ...                        1063.0                        2408.0   \n",
       "637      0.0  ...                         685.0                        1895.0   \n",
       "638      0.0  ...                         685.0                        1895.0   \n",
       "639      0.0  ...                        1371.0                        3020.0   \n",
       "\n",
       "     Power_Parity_Rs_150000_240000  Power_Parity_Rs_240000_330000  \\\n",
       "0                             71.0                          101.0   \n",
       "1                             72.0                           89.0   \n",
       "2                             15.0                           22.0   \n",
       "3                             12.0                           18.0   \n",
       "4                             35.0                           50.0   \n",
       "..                             ...                            ...   \n",
       "635                         1370.0                          838.0   \n",
       "636                          665.0                          340.0   \n",
       "637                          212.0                          134.0   \n",
       "638                          212.0                            NaN   \n",
       "639                          649.0                          368.0   \n",
       "\n",
       "     Power_Parity_Rs_150000_330000  Power_Parity_Rs_330000_425000  \\\n",
       "0                            172.0                           74.0   \n",
       "1                            161.0                           96.0   \n",
       "2                              NaN                           20.0   \n",
       "3                             30.0                           19.0   \n",
       "4                             85.0                           59.0   \n",
       "..                             ...                            ...   \n",
       "635                         2208.0                          576.0   \n",
       "636                         1005.0                          246.0   \n",
       "637                          346.0                           70.0   \n",
       "638                          346.0                           70.0   \n",
       "639                         1017.0                          265.0   \n",
       "\n",
       "     Power_Parity_Rs_425000_545000  Power_Parity_Rs_330000_545000  \\\n",
       "0                             10.0                           84.0   \n",
       "1                             28.0                          124.0   \n",
       "2                              NaN                            NaN   \n",
       "3                              3.0                           22.0   \n",
       "4                              8.0                           67.0   \n",
       "..                             ...                            ...   \n",
       "635                          978.0                         1554.0   \n",
       "636                            NaN                          729.0   \n",
       "637                          120.0                          190.0   \n",
       "638                          120.0                          190.0   \n",
       "639                          497.0                          762.0   \n",
       "\n",
       "     Power_Parity_Above_Rs_545000  Total_Power_Parity  \n",
       "0                            15.0              1119.0  \n",
       "1                            18.0              1066.0  \n",
       "2                            17.0               242.0  \n",
       "3                             7.0               214.0  \n",
       "4                            12.0               629.0  \n",
       "..                            ...                 ...  \n",
       "635                        1446.0             10027.0  \n",
       "636                         341.0              4890.0  \n",
       "637                          84.0              3151.0  \n",
       "638                          84.0              3151.0  \n",
       "639                         376.0              5782.0  \n",
       "\n",
       "[640 rows x 118 columns]"
      ]
     },
     "execution_count": 160,
     "metadata": {},
     "output_type": "execute_result"
    }
   ],
   "source": [
    "df"
   ]
  },
  {
   "cell_type": "markdown",
   "id": "0e16cf71-913f-4cab-baf0-fdb712e75fe7",
   "metadata": {},
   "source": [
    "# Task 1: Rename the Column names"
   ]
  },
  {
   "cell_type": "code",
   "execution_count": 163,
   "id": "c528af6d-df6c-4f03-ab3d-50e7fc3f8cec",
   "metadata": {},
   "outputs": [],
   "source": [
    "df.rename(columns={\n",
    "    'State name': 'State_UT',\n",
    "    'District name': 'District',\n",
    "    'Male_Literate': 'Literate_Male',\n",
    "    'Female_Literate': 'Literate_Female',\n",
    "    'Rural_Households': 'Households_Rural',\n",
    "    'Urban_Households': 'Households_Urban',\n",
    "    'Age_Group_0_29': 'Young_and_Adult',\n",
    "    'Age_Group_30_49': 'Middle_Aged',\n",
    "    'Age_Group_50': 'Senior_Citizen',\n",
    "    'Age not stated': 'Age_Not_Stated',\n",
    "    'Households_with_TV_Computer_Laptop_Telephone_mobile_phone_and_Scooter_Car': 'HHs_TV_Computer_Laptop_Tele_mobile_Scooter_Car',\n",
    "    'Type_of_latrine_facility_Night_soil_disposed_into_open_drain_Households': 'Type_of_latrine_facility_Night_soil',\n",
    "    'Type_of_latrine_facility_Flush_pour_flush_latrine_connected_to_other_system_Households': 'Type_of_latrine_facility_Flush_pour',\n",
    "    'Not_having_latrine_facility_within_the_premises_Alternative_source_Open_Households': 'Not_having_latrine_facility_Open_HHs',\n",
    "    'Main_source_of_drinking_water_Handpump_Tubewell_Borewell_Households': 'Main_source_of_drinking_water_Handpump',\n",
    "    'Main_source_of_drinking_water_Other_sources_Spring_River_Canal_Tank_Pond_Lake_Other_sources__Households': 'Main_source_of_drinking_water_Other_sources',\n",
    "}, inplace=True)"
   ]
  },
  {
   "cell_type": "markdown",
   "id": "2894014d-5d6e-4842-af51-01ee30df3923",
   "metadata": {},
   "source": [
    "# Task 2: Rename State/UT Names"
   ]
  },
  {
   "cell_type": "code",
   "execution_count": 166,
   "id": "e4a2e46e-408c-4a98-9b4c-cf8f86c4c916",
   "metadata": {},
   "outputs": [
    {
     "data": {
      "text/plain": [
       "0                Jammu and Kashmir\n",
       "1                Jammu and Kashmir\n",
       "2                Jammu and Kashmir\n",
       "3                Jammu and Kashmir\n",
       "4                Jammu and Kashmir\n",
       "                  ...             \n",
       "635                    Pondicherry\n",
       "636                    Pondicherry\n",
       "637    Andaman and Nicobar Islands\n",
       "638    Andaman and Nicobar Islands\n",
       "639    Andaman and Nicobar Islands\n",
       "Name: State_UT, Length: 640, dtype: object"
      ]
     },
     "execution_count": 166,
     "metadata": {},
     "output_type": "execute_result"
    }
   ],
   "source": [
    "df['State_UT'].apply(lambda x: ' '.join([i.capitalize() if i.lower() != 'and' else i.lower() for i in x.split(' ')]))"
   ]
  },
  {
   "cell_type": "code",
   "execution_count": 168,
   "id": "0f75b49c-d698-4d2e-9499-02cbdef994f0",
   "metadata": {},
   "outputs": [],
   "source": [
    "df['State_UT'] = df['State_UT'].apply(lambda x: ' '.join([i.capitalize() if i.lower() != 'and' else i.lower() for i in x.split(' ')]))"
   ]
  },
  {
   "cell_type": "markdown",
   "id": "82574b88-683d-4962-b21f-2f8808ab25a8",
   "metadata": {},
   "source": [
    "# Task 3: New State/UT formation"
   ]
  },
  {
   "cell_type": "code",
   "execution_count": 171,
   "id": "98542d19-d432-4418-80f5-4c7e8844b341",
   "metadata": {},
   "outputs": [],
   "source": [
    "new_telengana_districts = ['Adilabad'\n",
    ",'Nizamabad'\n",
    ",'Karimnagar'\n",
    ",'Medak'\n",
    ",'Hyderabad'\n",
    ",'Rangareddy'\n",
    ",'Mahbubnagar'\n",
    ",'Nalgonda'\n",
    ",'Warangal'\n",
    ",'Khammam'\n",
    "]"
   ]
  },
  {
   "cell_type": "code",
   "execution_count": 173,
   "id": "90b660a9-8d95-4979-8e22-d5b80eb32aee",
   "metadata": {},
   "outputs": [],
   "source": [
    "new_ladakh_districts = ['Leh(Ladakh)', 'Kargil']"
   ]
  },
  {
   "cell_type": "code",
   "execution_count": 175,
   "id": "86416b5b-45ca-4a96-a7ea-71ab0d4a3f32",
   "metadata": {},
   "outputs": [
    {
     "data": {
      "text/plain": [
       "0      False\n",
       "1      False\n",
       "2      False\n",
       "3      False\n",
       "4      False\n",
       "       ...  \n",
       "635    False\n",
       "636    False\n",
       "637    False\n",
       "638    False\n",
       "639    False\n",
       "Name: District, Length: 640, dtype: bool"
      ]
     },
     "execution_count": 175,
     "metadata": {},
     "output_type": "execute_result"
    }
   ],
   "source": [
    "df['District'].isin(new_telengana_districts) "
   ]
  },
  {
   "cell_type": "code",
   "execution_count": 177,
   "id": "2f17d546-aeca-4b70-a4ca-987ccb7b9dd7",
   "metadata": {},
   "outputs": [],
   "source": [
    "df.loc[df['District'].isin(new_telengana_districts),'State_UT'] = 'Telengana'"
   ]
  },
  {
   "cell_type": "code",
   "execution_count": 179,
   "id": "e8173a6a-f33d-42e5-b01e-1cc21b0e76fb",
   "metadata": {},
   "outputs": [
    {
     "data": {
      "text/html": [
       "<div>\n",
       "<style scoped>\n",
       "    .dataframe tbody tr th:only-of-type {\n",
       "        vertical-align: middle;\n",
       "    }\n",
       "\n",
       "    .dataframe tbody tr th {\n",
       "        vertical-align: top;\n",
       "    }\n",
       "\n",
       "    .dataframe thead th {\n",
       "        text-align: right;\n",
       "    }\n",
       "</style>\n",
       "<table border=\"1\" class=\"dataframe\">\n",
       "  <thead>\n",
       "    <tr style=\"text-align: right;\">\n",
       "      <th></th>\n",
       "      <th>District code</th>\n",
       "      <th>State_UT</th>\n",
       "      <th>District</th>\n",
       "      <th>Population</th>\n",
       "      <th>Male</th>\n",
       "      <th>Female</th>\n",
       "      <th>Literate</th>\n",
       "      <th>Literate_Male</th>\n",
       "      <th>Literate_Female</th>\n",
       "      <th>SC</th>\n",
       "      <th>...</th>\n",
       "      <th>Power_Parity_Rs_90000_150000</th>\n",
       "      <th>Power_Parity_Rs_45000_150000</th>\n",
       "      <th>Power_Parity_Rs_150000_240000</th>\n",
       "      <th>Power_Parity_Rs_240000_330000</th>\n",
       "      <th>Power_Parity_Rs_150000_330000</th>\n",
       "      <th>Power_Parity_Rs_330000_425000</th>\n",
       "      <th>Power_Parity_Rs_425000_545000</th>\n",
       "      <th>Power_Parity_Rs_330000_545000</th>\n",
       "      <th>Power_Parity_Above_Rs_545000</th>\n",
       "      <th>Total_Power_Parity</th>\n",
       "    </tr>\n",
       "  </thead>\n",
       "  <tbody>\n",
       "    <tr>\n",
       "      <th>531</th>\n",
       "      <td>532</td>\n",
       "      <td>Telengana</td>\n",
       "      <td>Adilabad</td>\n",
       "      <td>2741239.0</td>\n",
       "      <td>NaN</td>\n",
       "      <td>1371642.0</td>\n",
       "      <td>1483347.0</td>\n",
       "      <td>856350.0</td>\n",
       "      <td>626997.0</td>\n",
       "      <td>488596.0</td>\n",
       "      <td>...</td>\n",
       "      <td>1266.0</td>\n",
       "      <td>2870.0</td>\n",
       "      <td>84.0</td>\n",
       "      <td>122.0</td>\n",
       "      <td>206.0</td>\n",
       "      <td>134.0</td>\n",
       "      <td>213.0</td>\n",
       "      <td>347.0</td>\n",
       "      <td>109.0</td>\n",
       "      <td>4181.0</td>\n",
       "    </tr>\n",
       "    <tr>\n",
       "      <th>532</th>\n",
       "      <td>533</td>\n",
       "      <td>Telengana</td>\n",
       "      <td>Nizamabad</td>\n",
       "      <td>2551335.0</td>\n",
       "      <td>1250641.0</td>\n",
       "      <td>1300694.0</td>\n",
       "      <td>1389810.0</td>\n",
       "      <td>790214.0</td>\n",
       "      <td>599596.0</td>\n",
       "      <td>371074.0</td>\n",
       "      <td>...</td>\n",
       "      <td>931.0</td>\n",
       "      <td>2399.0</td>\n",
       "      <td>61.0</td>\n",
       "      <td>60.0</td>\n",
       "      <td>121.0</td>\n",
       "      <td>71.0</td>\n",
       "      <td>105.0</td>\n",
       "      <td>176.0</td>\n",
       "      <td>100.0</td>\n",
       "      <td>NaN</td>\n",
       "    </tr>\n",
       "    <tr>\n",
       "      <th>533</th>\n",
       "      <td>534</td>\n",
       "      <td>Telengana</td>\n",
       "      <td>Karimnagar</td>\n",
       "      <td>3776269.0</td>\n",
       "      <td>1880800.0</td>\n",
       "      <td>1895469.0</td>\n",
       "      <td>2206829.0</td>\n",
       "      <td>1257238.0</td>\n",
       "      <td>949591.0</td>\n",
       "      <td>709757.0</td>\n",
       "      <td>...</td>\n",
       "      <td>1420.0</td>\n",
       "      <td>3583.0</td>\n",
       "      <td>128.0</td>\n",
       "      <td>99.0</td>\n",
       "      <td>227.0</td>\n",
       "      <td>119.0</td>\n",
       "      <td>173.0</td>\n",
       "      <td>292.0</td>\n",
       "      <td>186.0</td>\n",
       "      <td>5251.0</td>\n",
       "    </tr>\n",
       "    <tr>\n",
       "      <th>534</th>\n",
       "      <td>535</td>\n",
       "      <td>Telengana</td>\n",
       "      <td>Medak</td>\n",
       "      <td>3033288.0</td>\n",
       "      <td>1523030.0</td>\n",
       "      <td>1510258.0</td>\n",
       "      <td>1637137.0</td>\n",
       "      <td>953406.0</td>\n",
       "      <td>683731.0</td>\n",
       "      <td>537947.0</td>\n",
       "      <td>...</td>\n",
       "      <td>997.0</td>\n",
       "      <td>2656.0</td>\n",
       "      <td>84.0</td>\n",
       "      <td>59.0</td>\n",
       "      <td>143.0</td>\n",
       "      <td>71.0</td>\n",
       "      <td>102.0</td>\n",
       "      <td>173.0</td>\n",
       "      <td>116.0</td>\n",
       "      <td>3874.0</td>\n",
       "    </tr>\n",
       "    <tr>\n",
       "      <th>535</th>\n",
       "      <td>536</td>\n",
       "      <td>Telengana</td>\n",
       "      <td>Hyderabad</td>\n",
       "      <td>3943323.0</td>\n",
       "      <td>2018575.0</td>\n",
       "      <td>1924748.0</td>\n",
       "      <td>2892155.0</td>\n",
       "      <td>1542688.0</td>\n",
       "      <td>1349467.0</td>\n",
       "      <td>247927.0</td>\n",
       "      <td>...</td>\n",
       "      <td>3204.0</td>\n",
       "      <td>5212.0</td>\n",
       "      <td>1708.0</td>\n",
       "      <td>494.0</td>\n",
       "      <td>2202.0</td>\n",
       "      <td>NaN</td>\n",
       "      <td>860.0</td>\n",
       "      <td>1531.0</td>\n",
       "      <td>1710.0</td>\n",
       "      <td>11071.0</td>\n",
       "    </tr>\n",
       "    <tr>\n",
       "      <th>536</th>\n",
       "      <td>537</td>\n",
       "      <td>Telengana</td>\n",
       "      <td>Rangareddy</td>\n",
       "      <td>5296741.0</td>\n",
       "      <td>2701008.0</td>\n",
       "      <td>2595733.0</td>\n",
       "      <td>NaN</td>\n",
       "      <td>1948784.0</td>\n",
       "      <td>1589244.0</td>\n",
       "      <td>652042.0</td>\n",
       "      <td>...</td>\n",
       "      <td>2912.0</td>\n",
       "      <td>5426.0</td>\n",
       "      <td>528.0</td>\n",
       "      <td>373.0</td>\n",
       "      <td>901.0</td>\n",
       "      <td>438.0</td>\n",
       "      <td>650.0</td>\n",
       "      <td>1088.0</td>\n",
       "      <td>603.0</td>\n",
       "      <td>NaN</td>\n",
       "    </tr>\n",
       "    <tr>\n",
       "      <th>537</th>\n",
       "      <td>538</td>\n",
       "      <td>Telengana</td>\n",
       "      <td>Mahbubnagar</td>\n",
       "      <td>4053028.0</td>\n",
       "      <td>2050386.0</td>\n",
       "      <td>2002642.0</td>\n",
       "      <td>1940646.0</td>\n",
       "      <td>1158386.0</td>\n",
       "      <td>782260.0</td>\n",
       "      <td>708954.0</td>\n",
       "      <td>...</td>\n",
       "      <td>1137.0</td>\n",
       "      <td>3241.0</td>\n",
       "      <td>70.0</td>\n",
       "      <td>54.0</td>\n",
       "      <td>124.0</td>\n",
       "      <td>65.0</td>\n",
       "      <td>95.0</td>\n",
       "      <td>160.0</td>\n",
       "      <td>102.0</td>\n",
       "      <td>4695.0</td>\n",
       "    </tr>\n",
       "    <tr>\n",
       "      <th>538</th>\n",
       "      <td>539</td>\n",
       "      <td>Telengana</td>\n",
       "      <td>Nalgonda</td>\n",
       "      <td>3488809.0</td>\n",
       "      <td>1759772.0</td>\n",
       "      <td>1729037.0</td>\n",
       "      <td>2001019.0</td>\n",
       "      <td>1160757.0</td>\n",
       "      <td>840262.0</td>\n",
       "      <td>637385.0</td>\n",
       "      <td>...</td>\n",
       "      <td>1106.0</td>\n",
       "      <td>3043.0</td>\n",
       "      <td>NaN</td>\n",
       "      <td>72.0</td>\n",
       "      <td>136.0</td>\n",
       "      <td>84.0</td>\n",
       "      <td>125.0</td>\n",
       "      <td>209.0</td>\n",
       "      <td>113.0</td>\n",
       "      <td>4468.0</td>\n",
       "    </tr>\n",
       "    <tr>\n",
       "      <th>539</th>\n",
       "      <td>540</td>\n",
       "      <td>Telengana</td>\n",
       "      <td>Warangal</td>\n",
       "      <td>3512576.0</td>\n",
       "      <td>1759281.0</td>\n",
       "      <td>1753295.0</td>\n",
       "      <td>2065023.0</td>\n",
       "      <td>1179790.0</td>\n",
       "      <td>885233.0</td>\n",
       "      <td>616102.0</td>\n",
       "      <td>...</td>\n",
       "      <td>1203.0</td>\n",
       "      <td>3139.0</td>\n",
       "      <td>135.0</td>\n",
       "      <td>93.0</td>\n",
       "      <td>228.0</td>\n",
       "      <td>112.0</td>\n",
       "      <td>162.0</td>\n",
       "      <td>274.0</td>\n",
       "      <td>185.0</td>\n",
       "      <td>4762.0</td>\n",
       "    </tr>\n",
       "    <tr>\n",
       "      <th>540</th>\n",
       "      <td>541</td>\n",
       "      <td>Telengana</td>\n",
       "      <td>Khammam</td>\n",
       "      <td>2797370.0</td>\n",
       "      <td>1390988.0</td>\n",
       "      <td>1406382.0</td>\n",
       "      <td>1630234.0</td>\n",
       "      <td>901640.0</td>\n",
       "      <td>728594.0</td>\n",
       "      <td>462896.0</td>\n",
       "      <td>...</td>\n",
       "      <td>1012.0</td>\n",
       "      <td>2596.0</td>\n",
       "      <td>75.0</td>\n",
       "      <td>78.0</td>\n",
       "      <td>153.0</td>\n",
       "      <td>92.0</td>\n",
       "      <td>136.0</td>\n",
       "      <td>NaN</td>\n",
       "      <td>127.0</td>\n",
       "      <td>3836.0</td>\n",
       "    </tr>\n",
       "  </tbody>\n",
       "</table>\n",
       "<p>10 rows × 118 columns</p>\n",
       "</div>"
      ],
      "text/plain": [
       "     District code   State_UT     District  Population       Male     Female  \\\n",
       "531            532  Telengana     Adilabad   2741239.0        NaN  1371642.0   \n",
       "532            533  Telengana    Nizamabad   2551335.0  1250641.0  1300694.0   \n",
       "533            534  Telengana   Karimnagar   3776269.0  1880800.0  1895469.0   \n",
       "534            535  Telengana        Medak   3033288.0  1523030.0  1510258.0   \n",
       "535            536  Telengana    Hyderabad   3943323.0  2018575.0  1924748.0   \n",
       "536            537  Telengana   Rangareddy   5296741.0  2701008.0  2595733.0   \n",
       "537            538  Telengana  Mahbubnagar   4053028.0  2050386.0  2002642.0   \n",
       "538            539  Telengana     Nalgonda   3488809.0  1759772.0  1729037.0   \n",
       "539            540  Telengana     Warangal   3512576.0  1759281.0  1753295.0   \n",
       "540            541  Telengana      Khammam   2797370.0  1390988.0  1406382.0   \n",
       "\n",
       "      Literate  Literate_Male  Literate_Female        SC  ...  \\\n",
       "531  1483347.0       856350.0         626997.0  488596.0  ...   \n",
       "532  1389810.0       790214.0         599596.0  371074.0  ...   \n",
       "533  2206829.0      1257238.0         949591.0  709757.0  ...   \n",
       "534  1637137.0       953406.0         683731.0  537947.0  ...   \n",
       "535  2892155.0      1542688.0        1349467.0  247927.0  ...   \n",
       "536        NaN      1948784.0        1589244.0  652042.0  ...   \n",
       "537  1940646.0      1158386.0         782260.0  708954.0  ...   \n",
       "538  2001019.0      1160757.0         840262.0  637385.0  ...   \n",
       "539  2065023.0      1179790.0         885233.0  616102.0  ...   \n",
       "540  1630234.0       901640.0         728594.0  462896.0  ...   \n",
       "\n",
       "     Power_Parity_Rs_90000_150000  Power_Parity_Rs_45000_150000  \\\n",
       "531                        1266.0                        2870.0   \n",
       "532                         931.0                        2399.0   \n",
       "533                        1420.0                        3583.0   \n",
       "534                         997.0                        2656.0   \n",
       "535                        3204.0                        5212.0   \n",
       "536                        2912.0                        5426.0   \n",
       "537                        1137.0                        3241.0   \n",
       "538                        1106.0                        3043.0   \n",
       "539                        1203.0                        3139.0   \n",
       "540                        1012.0                        2596.0   \n",
       "\n",
       "     Power_Parity_Rs_150000_240000  Power_Parity_Rs_240000_330000  \\\n",
       "531                           84.0                          122.0   \n",
       "532                           61.0                           60.0   \n",
       "533                          128.0                           99.0   \n",
       "534                           84.0                           59.0   \n",
       "535                         1708.0                          494.0   \n",
       "536                          528.0                          373.0   \n",
       "537                           70.0                           54.0   \n",
       "538                            NaN                           72.0   \n",
       "539                          135.0                           93.0   \n",
       "540                           75.0                           78.0   \n",
       "\n",
       "     Power_Parity_Rs_150000_330000  Power_Parity_Rs_330000_425000  \\\n",
       "531                          206.0                          134.0   \n",
       "532                          121.0                           71.0   \n",
       "533                          227.0                          119.0   \n",
       "534                          143.0                           71.0   \n",
       "535                         2202.0                            NaN   \n",
       "536                          901.0                          438.0   \n",
       "537                          124.0                           65.0   \n",
       "538                          136.0                           84.0   \n",
       "539                          228.0                          112.0   \n",
       "540                          153.0                           92.0   \n",
       "\n",
       "     Power_Parity_Rs_425000_545000  Power_Parity_Rs_330000_545000  \\\n",
       "531                          213.0                          347.0   \n",
       "532                          105.0                          176.0   \n",
       "533                          173.0                          292.0   \n",
       "534                          102.0                          173.0   \n",
       "535                          860.0                         1531.0   \n",
       "536                          650.0                         1088.0   \n",
       "537                           95.0                          160.0   \n",
       "538                          125.0                          209.0   \n",
       "539                          162.0                          274.0   \n",
       "540                          136.0                            NaN   \n",
       "\n",
       "     Power_Parity_Above_Rs_545000  Total_Power_Parity  \n",
       "531                         109.0              4181.0  \n",
       "532                         100.0                 NaN  \n",
       "533                         186.0              5251.0  \n",
       "534                         116.0              3874.0  \n",
       "535                        1710.0             11071.0  \n",
       "536                         603.0                 NaN  \n",
       "537                         102.0              4695.0  \n",
       "538                         113.0              4468.0  \n",
       "539                         185.0              4762.0  \n",
       "540                         127.0              3836.0  \n",
       "\n",
       "[10 rows x 118 columns]"
      ]
     },
     "execution_count": 179,
     "metadata": {},
     "output_type": "execute_result"
    }
   ],
   "source": [
    "df.loc[df['District'].isin(new_telengana_districts)]"
   ]
  },
  {
   "cell_type": "code",
   "execution_count": 181,
   "id": "950c52f5-6b52-4b70-b3d3-a72f61948007",
   "metadata": {},
   "outputs": [
    {
     "data": {
      "text/plain": [
       "0      False\n",
       "1      False\n",
       "2       True\n",
       "3       True\n",
       "4      False\n",
       "       ...  \n",
       "635    False\n",
       "636    False\n",
       "637    False\n",
       "638    False\n",
       "639    False\n",
       "Name: District, Length: 640, dtype: bool"
      ]
     },
     "execution_count": 181,
     "metadata": {},
     "output_type": "execute_result"
    }
   ],
   "source": [
    "df['District'].isin(new_ladakh_districts)"
   ]
  },
  {
   "cell_type": "code",
   "execution_count": 183,
   "id": "be264fa0-50b6-4086-96c3-f4c7a6cee72d",
   "metadata": {},
   "outputs": [
    {
     "data": {
      "text/html": [
       "<div>\n",
       "<style scoped>\n",
       "    .dataframe tbody tr th:only-of-type {\n",
       "        vertical-align: middle;\n",
       "    }\n",
       "\n",
       "    .dataframe tbody tr th {\n",
       "        vertical-align: top;\n",
       "    }\n",
       "\n",
       "    .dataframe thead th {\n",
       "        text-align: right;\n",
       "    }\n",
       "</style>\n",
       "<table border=\"1\" class=\"dataframe\">\n",
       "  <thead>\n",
       "    <tr style=\"text-align: right;\">\n",
       "      <th></th>\n",
       "      <th>District code</th>\n",
       "      <th>State_UT</th>\n",
       "      <th>District</th>\n",
       "      <th>Population</th>\n",
       "      <th>Male</th>\n",
       "      <th>Female</th>\n",
       "      <th>Literate</th>\n",
       "      <th>Literate_Male</th>\n",
       "      <th>Literate_Female</th>\n",
       "      <th>SC</th>\n",
       "      <th>...</th>\n",
       "      <th>Power_Parity_Rs_90000_150000</th>\n",
       "      <th>Power_Parity_Rs_45000_150000</th>\n",
       "      <th>Power_Parity_Rs_150000_240000</th>\n",
       "      <th>Power_Parity_Rs_240000_330000</th>\n",
       "      <th>Power_Parity_Rs_150000_330000</th>\n",
       "      <th>Power_Parity_Rs_330000_425000</th>\n",
       "      <th>Power_Parity_Rs_425000_545000</th>\n",
       "      <th>Power_Parity_Rs_330000_545000</th>\n",
       "      <th>Power_Parity_Above_Rs_545000</th>\n",
       "      <th>Total_Power_Parity</th>\n",
       "    </tr>\n",
       "  </thead>\n",
       "  <tbody>\n",
       "    <tr>\n",
       "      <th>2</th>\n",
       "      <td>3</td>\n",
       "      <td>Ladakh</td>\n",
       "      <td>Leh(Ladakh)</td>\n",
       "      <td>133487.0</td>\n",
       "      <td>78971.0</td>\n",
       "      <td>54516.0</td>\n",
       "      <td>93770.0</td>\n",
       "      <td>62834.0</td>\n",
       "      <td>30936.0</td>\n",
       "      <td>488.0</td>\n",
       "      <td>...</td>\n",
       "      <td>46.0</td>\n",
       "      <td>122.0</td>\n",
       "      <td>15.0</td>\n",
       "      <td>22.0</td>\n",
       "      <td>NaN</td>\n",
       "      <td>20.0</td>\n",
       "      <td>NaN</td>\n",
       "      <td>NaN</td>\n",
       "      <td>17.0</td>\n",
       "      <td>242.0</td>\n",
       "    </tr>\n",
       "    <tr>\n",
       "      <th>3</th>\n",
       "      <td>4</td>\n",
       "      <td>Ladakh</td>\n",
       "      <td>Kargil</td>\n",
       "      <td>140802.0</td>\n",
       "      <td>NaN</td>\n",
       "      <td>63017.0</td>\n",
       "      <td>NaN</td>\n",
       "      <td>56301.0</td>\n",
       "      <td>29935.0</td>\n",
       "      <td>18.0</td>\n",
       "      <td>...</td>\n",
       "      <td>27.0</td>\n",
       "      <td>114.0</td>\n",
       "      <td>12.0</td>\n",
       "      <td>18.0</td>\n",
       "      <td>30.0</td>\n",
       "      <td>19.0</td>\n",
       "      <td>3.0</td>\n",
       "      <td>22.0</td>\n",
       "      <td>7.0</td>\n",
       "      <td>214.0</td>\n",
       "    </tr>\n",
       "  </tbody>\n",
       "</table>\n",
       "<p>2 rows × 118 columns</p>\n",
       "</div>"
      ],
      "text/plain": [
       "   District code State_UT     District  Population     Male   Female  \\\n",
       "2              3   Ladakh  Leh(Ladakh)    133487.0  78971.0  54516.0   \n",
       "3              4   Ladakh       Kargil    140802.0      NaN  63017.0   \n",
       "\n",
       "   Literate  Literate_Male  Literate_Female     SC  ...  \\\n",
       "2   93770.0        62834.0          30936.0  488.0  ...   \n",
       "3       NaN        56301.0          29935.0   18.0  ...   \n",
       "\n",
       "   Power_Parity_Rs_90000_150000  Power_Parity_Rs_45000_150000  \\\n",
       "2                          46.0                         122.0   \n",
       "3                          27.0                         114.0   \n",
       "\n",
       "   Power_Parity_Rs_150000_240000  Power_Parity_Rs_240000_330000  \\\n",
       "2                           15.0                           22.0   \n",
       "3                           12.0                           18.0   \n",
       "\n",
       "   Power_Parity_Rs_150000_330000  Power_Parity_Rs_330000_425000  \\\n",
       "2                            NaN                           20.0   \n",
       "3                           30.0                           19.0   \n",
       "\n",
       "   Power_Parity_Rs_425000_545000  Power_Parity_Rs_330000_545000  \\\n",
       "2                            NaN                            NaN   \n",
       "3                            3.0                           22.0   \n",
       "\n",
       "   Power_Parity_Above_Rs_545000  Total_Power_Parity  \n",
       "2                          17.0               242.0  \n",
       "3                           7.0               214.0  \n",
       "\n",
       "[2 rows x 118 columns]"
      ]
     },
     "execution_count": 183,
     "metadata": {},
     "output_type": "execute_result"
    }
   ],
   "source": [
    "df.loc[df['District'].isin(new_ladakh_districts),'State_UT'] = 'Ladakh'\n",
    "df.loc[df['District'].isin(new_ladakh_districts)]"
   ]
  },
  {
   "cell_type": "markdown",
   "id": "d272e57a-3c40-41d7-b47f-6f6a516de5a4",
   "metadata": {},
   "source": [
    "# Task 4: Find and process Missing Data"
   ]
  },
  {
   "cell_type": "code",
   "execution_count": 186,
   "id": "9b6f545d-1cd6-4d42-af7d-54130353e622",
   "metadata": {},
   "outputs": [],
   "source": [
    "df1 = df.isna().mean() * 100"
   ]
  },
  {
   "cell_type": "code",
   "execution_count": 188,
   "id": "3a781d15-4acf-40c0-85d5-a536a181fb96",
   "metadata": {},
   "outputs": [
    {
     "data": {
      "text/plain": [
       "District code                    0.00000\n",
       "State_UT                         0.00000\n",
       "District                         0.00000\n",
       "Population                       4.68750\n",
       "Male                             4.68750\n",
       "                                  ...   \n",
       "Power_Parity_Rs_330000_425000    5.15625\n",
       "Power_Parity_Rs_425000_545000    4.68750\n",
       "Power_Parity_Rs_330000_545000    3.59375\n",
       "Power_Parity_Above_Rs_545000     4.68750\n",
       "Total_Power_Parity               5.00000\n",
       "Length: 118, dtype: float64"
      ]
     },
     "execution_count": 188,
     "metadata": {},
     "output_type": "execute_result"
    }
   ],
   "source": [
    "df1"
   ]
  },
  {
   "cell_type": "code",
   "execution_count": 190,
   "id": "9243492d-4877-44ad-98e2-ebfd28e4342c",
   "metadata": {},
   "outputs": [],
   "source": [
    "df['Population'] = df['Male'].fillna(0) + df['Female'].fillna(0)"
   ]
  },
  {
   "cell_type": "code",
   "execution_count": 192,
   "id": "1f49775a-eff2-46aa-bf24-ead02906ba4c",
   "metadata": {},
   "outputs": [],
   "source": [
    "df['Literate'] = df['Literate_Male'].fillna(0) + df['Literate_Female'].fillna(0)"
   ]
  },
  {
   "cell_type": "code",
   "execution_count": 194,
   "id": "48b66f0a-68e9-4768-8960-ad6e8fc35447",
   "metadata": {},
   "outputs": [],
   "source": [
    "df['Population']  = df['Young_and_Adult'].fillna(0) +  df['Middle_Aged'].fillna(0) + df['Senior_Citizen'].fillna(0) + df['Age_Not_Stated'].fillna(0)"
   ]
  },
  {
   "cell_type": "code",
   "execution_count": 196,
   "id": "b8f3f09a-d89b-40b5-bf7c-327f7e6f7222",
   "metadata": {},
   "outputs": [],
   "source": [
    "df['Households'] = df['Households_Rural'] + df['Households_Urban'] "
   ]
  },
  {
   "cell_type": "code",
   "execution_count": 198,
   "id": "807d3ccb-dfa8-4c7e-ab4d-073bb66f6bd2",
   "metadata": {},
   "outputs": [],
   "source": [
    "df['SC'] = df['Male_SC'] + df['Female_SC']"
   ]
  },
  {
   "cell_type": "code",
   "execution_count": 200,
   "id": "97a9cfea-13a0-499f-8cd4-6ad0fa221b12",
   "metadata": {},
   "outputs": [],
   "source": [
    "df['SC'] = df['Male_SC'].fillna(0) + df['Female_SC'].fillna(0)"
   ]
  },
  {
   "cell_type": "code",
   "execution_count": 202,
   "id": "1b3110bb-ac5d-4499-ac29-2eaa3d30cfe0",
   "metadata": {},
   "outputs": [],
   "source": [
    "df['ST'] = df['Male_ST'].fillna(0) + df['Female_ST'].fillna(0)"
   ]
  },
  {
   "cell_type": "code",
   "execution_count": 204,
   "id": "63144cda-d916-4473-8d4c-c1735b2414a2",
   "metadata": {},
   "outputs": [],
   "source": [
    "df['Workers'] = df['Male_Workers'].fillna(0) + df['Female_Workers'].fillna(0)"
   ]
  },
  {
   "cell_type": "code",
   "execution_count": 206,
   "id": "8e95d644-96ae-4a27-8187-5cee351ff0e9",
   "metadata": {},
   "outputs": [
    {
     "data": {
      "text/plain": [
       "562126.9133986929"
      ]
     },
     "execution_count": 206,
     "metadata": {},
     "output_type": "execute_result"
    }
   ],
   "source": [
    "df['Main_Workers'].mean()"
   ]
  },
  {
   "cell_type": "code",
   "execution_count": 208,
   "id": "7088dc6c-ce67-47a9-94fe-7303a80d2d5c",
   "metadata": {},
   "outputs": [],
   "source": [
    "df['Main_Workers'] = df['Main_Workers'].fillna(562126.9)"
   ]
  },
  {
   "cell_type": "code",
   "execution_count": 210,
   "id": "3338e550-7ac7-4636-96fe-c322a4583eb7",
   "metadata": {},
   "outputs": [
    {
     "data": {
      "text/plain": [
       "184369.38935108154"
      ]
     },
     "execution_count": 210,
     "metadata": {},
     "output_type": "execute_result"
    }
   ],
   "source": [
    "df['Marginal_Workers'].mean()"
   ]
  },
  {
   "cell_type": "code",
   "execution_count": 212,
   "id": "49bae190-cf74-466b-894d-db893402eb65",
   "metadata": {},
   "outputs": [],
   "source": [
    "df['Marginal_Workers'] = df['Marginal_Workers'].fillna(184369.3)"
   ]
  },
  {
   "cell_type": "code",
   "execution_count": 214,
   "id": "6f4cb435-c9f4-4f13-8650-fccba36b91cd",
   "metadata": {},
   "outputs": [
    {
     "data": {
      "text/plain": [
       "1149683.236754967"
      ]
     },
     "execution_count": 214,
     "metadata": {},
     "output_type": "execute_result"
    }
   ],
   "source": [
    "df['Non_Workers'].mean()"
   ]
  },
  {
   "cell_type": "code",
   "execution_count": 216,
   "id": "ac310d2a-ec61-47aa-95f5-38e54239ea10",
   "metadata": {},
   "outputs": [],
   "source": [
    "df['Non_Workers'] = df['Non_Workers'].fillna(1149683.2)"
   ]
  },
  {
   "cell_type": "code",
   "execution_count": 218,
   "id": "5bfc5ada-dc72-4e46-81ed-0cbebb978e3f",
   "metadata": {},
   "outputs": [
    {
     "data": {
      "text/plain": [
       "186126.8968903437"
      ]
     },
     "execution_count": 218,
     "metadata": {},
     "output_type": "execute_result"
    }
   ],
   "source": [
    "df['Cultivator_Workers'].mean()"
   ]
  },
  {
   "cell_type": "code",
   "execution_count": 220,
   "id": "ab288081-06bd-4ae4-88cc-a94d5bcb545f",
   "metadata": {},
   "outputs": [],
   "source": [
    "df['Cultivator_Workers'] = df['Cultivator_Workers'].fillna(186126.8)"
   ]
  },
  {
   "cell_type": "code",
   "execution_count": 222,
   "id": "cf99dc90-3385-4971-8fa2-2c5706fc2a83",
   "metadata": {},
   "outputs": [
    {
     "data": {
      "text/plain": [
       "225944.6982055465"
      ]
     },
     "execution_count": 222,
     "metadata": {},
     "output_type": "execute_result"
    }
   ],
   "source": [
    "df['Agricultural_Workers'].mean()"
   ]
  },
  {
   "cell_type": "code",
   "execution_count": 224,
   "id": "8b7c3caf-0461-4bdc-a514-1b051eb73de1",
   "metadata": {},
   "outputs": [],
   "source": [
    "df['Agricultural_Workers'] = df['Agricultural_Workers'].fillna(225944.69)"
   ]
  },
  {
   "cell_type": "code",
   "execution_count": 226,
   "id": "7b54d692-bbe2-4684-8aa5-fb67ecd0b57d",
   "metadata": {},
   "outputs": [
    {
     "data": {
      "text/plain": [
       "27981.906862745098"
      ]
     },
     "execution_count": 226,
     "metadata": {},
     "output_type": "execute_result"
    }
   ],
   "source": [
    "df['Household_Workers'].mean()"
   ]
  },
  {
   "cell_type": "code",
   "execution_count": 228,
   "id": "b2ae0308-5347-4671-ba41-b18963a62715",
   "metadata": {},
   "outputs": [],
   "source": [
    "df['Household_Workers'] = df['Household_Workers'].fillna(27981.9)"
   ]
  },
  {
   "cell_type": "code",
   "execution_count": 230,
   "id": "12590e1c-bd84-4877-809e-0e23b47f3ab6",
   "metadata": {},
   "outputs": [
    {
     "data": {
      "text/plain": [
       "316245.83496732026"
      ]
     },
     "execution_count": 230,
     "metadata": {},
     "output_type": "execute_result"
    }
   ],
   "source": [
    "df['Other_Workers'].mean()"
   ]
  },
  {
   "cell_type": "code",
   "execution_count": 232,
   "id": "59fc73e3-ff68-45c4-91c9-456a2d5e1768",
   "metadata": {},
   "outputs": [],
   "source": [
    "df['Other_Workers'] = df['Other_Workers'].fillna(316245.8)"
   ]
  },
  {
   "cell_type": "code",
   "execution_count": 234,
   "id": "3f324159-fb2e-4cfb-947d-57d06296367d",
   "metadata": {},
   "outputs": [],
   "source": [
    "df['Male'] = df['Population'].fillna(0) - df['Female'].fillna(0)"
   ]
  },
  {
   "cell_type": "code",
   "execution_count": 236,
   "id": "b7cd6758-5dd3-4728-ab05-482b9524b779",
   "metadata": {},
   "outputs": [],
   "source": [
    "df['Female'] = df['Population'] - df['Male']"
   ]
  },
  {
   "cell_type": "code",
   "execution_count": 238,
   "id": "0aa1bd4c-540f-41d3-9b42-89d415fa76da",
   "metadata": {},
   "outputs": [],
   "source": [
    "df['Households'] = df['Households_Rural'].fillna(0) + df['Households_Urban'].fillna(0)"
   ]
  },
  {
   "cell_type": "code",
   "execution_count": 240,
   "id": "68f6aa1e-efe4-4c2a-8241-75e3aa2dfd1d",
   "metadata": {},
   "outputs": [],
   "source": [
    "df['Households_Rural'] = df['Households'].fillna(0) - df['Households_Urban'].fillna(0)"
   ]
  },
  {
   "cell_type": "code",
   "execution_count": 242,
   "id": "2aa4d670-0e19-40a2-b8ba-6727364dc861",
   "metadata": {},
   "outputs": [],
   "source": [
    "df['Households_Urban'] = df['Households'] - df['Households_Rural']"
   ]
  },
  {
   "cell_type": "code",
   "execution_count": 244,
   "id": "f1482a24-afae-44f8-bfc1-255844a0fcd0",
   "metadata": {},
   "outputs": [],
   "source": [
    "df['Total_Education'] = df['Literate_Education'].fillna(0) + df['Illiterate_Education'].fillna(0)"
   ]
  },
  {
   "cell_type": "code",
   "execution_count": 246,
   "id": "25781394-3e33-45c9-b1bc-a2a58abc0f5e",
   "metadata": {},
   "outputs": [],
   "source": [
    "df['Literate_Education'] = df['Total_Education'].fillna(0) - df['Illiterate_Education'].fillna(0)"
   ]
  },
  {
   "cell_type": "code",
   "execution_count": 248,
   "id": "cae9a65b-bd19-4dbf-89ba-e67006863e32",
   "metadata": {},
   "outputs": [],
   "source": [
    "df['Illiterate_Education'] = df['Total_Education'] - df['Literate_Education']"
   ]
  },
  {
   "cell_type": "code",
   "execution_count": 250,
   "id": "fb6ae58a-6b44-43a7-982a-cd9c9742051e",
   "metadata": {},
   "outputs": [],
   "source": [
    "df['Household_size_1_to_2_persons'] = df['Household_size_1_person_Households'].fillna(0) + df['Household_size_2_persons_Households'].fillna(0)"
   ]
  },
  {
   "cell_type": "code",
   "execution_count": 252,
   "id": "f181111e-c7f9-4331-8d3b-1017d737bafc",
   "metadata": {},
   "outputs": [],
   "source": [
    "df['Household_size_1_person_Households'] = df['Household_size_1_to_2_persons'].fillna(0) - df['Household_size_2_persons_Households'].fillna(0)"
   ]
  },
  {
   "cell_type": "code",
   "execution_count": 254,
   "id": "c9daf3bd-c558-49fd-afa4-9edc238b96ac",
   "metadata": {},
   "outputs": [],
   "source": [
    "df['Household_size_2_persons_Households'] = df['Household_size_1_to_2_persons'].fillna(0) - df['Household_size_1_person_Households'].fillna(0)"
   ]
  },
  {
   "cell_type": "code",
   "execution_count": 256,
   "id": "8fd30049-6668-42f6-90c6-f01e265fdc85",
   "metadata": {},
   "outputs": [],
   "source": [
    "df['Household_size_3_to_5_persons_Households'] = df['Household_size_3_persons_Households'].fillna(0) + df['Household_size_4_persons_Households'].fillna(0) + df['Household_size_5_persons_Households'].fillna(0)"
   ]
  },
  {
   "cell_type": "code",
   "execution_count": 258,
   "id": "3a57eb7f-6bad-4b2f-93d2-f37ee5b0e051",
   "metadata": {},
   "outputs": [],
   "source": [
    "df['Married_couples_3_or_more_Households'] = df['Married_couples_3_Households'].fillna(0) + df['Married_couples_4_Households'].fillna(0) + df['Married_couples_5__Households'].fillna(0)"
   ]
  },
  {
   "cell_type": "code",
   "execution_count": 260,
   "id": "09b8eb8a-f5b8-4306-bdbc-2251d32dd556",
   "metadata": {},
   "outputs": [],
   "source": [
    "df['Power_Parity_Rs_45000_150000'] = df['Power_Parity_Rs_45000_90000'].fillna(0) + df['Power_Parity_Rs_90000_150000'].fillna(0)"
   ]
  },
  {
   "cell_type": "code",
   "execution_count": 262,
   "id": "852dddd9-4316-41f8-a69b-a70fc73c120d",
   "metadata": {},
   "outputs": [],
   "source": [
    "df['Power_Parity_Rs_45000_90000'] = df['Power_Parity_Rs_45000_150000'].fillna(0) - df['Power_Parity_Rs_90000_150000'].fillna(0)"
   ]
  },
  {
   "cell_type": "code",
   "execution_count": 264,
   "id": "7ff8e8cc-bb2e-47dd-a5cb-5eb0c9812fc9",
   "metadata": {},
   "outputs": [],
   "source": [
    "df['Power_Parity_Rs_90000_150000'] = df['Power_Parity_Rs_45000_150000'].fillna(0) - df['Power_Parity_Rs_45000_90000'].fillna(0)"
   ]
  },
  {
   "cell_type": "code",
   "execution_count": 266,
   "id": "aeb735e6-8a8f-48d1-9a92-70ab215e1fc1",
   "metadata": {},
   "outputs": [],
   "source": [
    "df['Power_Parity_Rs_150000_330000'] = df['Power_Parity_Rs_150000_240000'].fillna(0) + df['Power_Parity_Rs_240000_330000'].fillna(0)"
   ]
  },
  {
   "cell_type": "code",
   "execution_count": 268,
   "id": "c74eef52-431c-41e8-9549-39067ba62559",
   "metadata": {},
   "outputs": [],
   "source": [
    "df['Power_Parity_Rs_150000_240000'] = df['Power_Parity_Rs_150000_330000'].fillna(0) - df['Power_Parity_Rs_240000_330000'].fillna(0)"
   ]
  },
  {
   "cell_type": "code",
   "execution_count": 270,
   "id": "52cbe4e8-54ec-4537-bd71-125f08b3ca2f",
   "metadata": {},
   "outputs": [],
   "source": [
    "df['Power_Parity_Rs_240000_330000'] = df['Power_Parity_Rs_150000_330000'].fillna(0) - df['Power_Parity_Rs_150000_240000'].fillna(0)"
   ]
  },
  {
   "cell_type": "code",
   "execution_count": 272,
   "id": "aafb765c-bec4-4a53-82cb-fbd431b3dfb9",
   "metadata": {},
   "outputs": [],
   "source": [
    "df['Power_Parity_Rs_330000_545000'] = df['Power_Parity_Rs_330000_425000'].fillna(0) + df['Power_Parity_Rs_425000_545000'].fillna(0)"
   ]
  },
  {
   "cell_type": "code",
   "execution_count": 274,
   "id": "abf674f3-c808-4cf6-adde-7c22f5797a5c",
   "metadata": {},
   "outputs": [],
   "source": [
    "df['Power_Parity_Rs_330000_425000'] = df['Power_Parity_Rs_330000_545000'].fillna(0) - df['Power_Parity_Rs_425000_545000'].fillna(0)"
   ]
  },
  {
   "cell_type": "code",
   "execution_count": 276,
   "id": "7ba80c04-c707-4ff5-a79b-7f76129ce6d1",
   "metadata": {},
   "outputs": [],
   "source": [
    "df['Power_Parity_Rs_425000_545000'] = df['Power_Parity_Rs_330000_545000'].fillna(0) - df['Power_Parity_Rs_330000_425000'].fillna(0)"
   ]
  },
  {
   "cell_type": "code",
   "execution_count": 278,
   "id": "06f2dea5-e969-4b87-9d4a-c93f97f4b603",
   "metadata": {},
   "outputs": [],
   "source": [
    "df['Total_Power_Parity'] = df['Power_Parity_Less_than_Rs_45000'].fillna(0) + df['Power_Parity_Rs_45000_150000'].fillna(0) + df['Power_Parity_Rs_150000_330000'].fillna(0) + df['Power_Parity_Rs_330000_545000'].fillna(0) + df['Power_Parity_Above_Rs_545000'].fillna(0)"
   ]
  },
  {
   "cell_type": "markdown",
   "id": "159f902a-9a25-4c5b-b510-ffe0df159348",
   "metadata": {},
   "source": [
    "# Comparing the amount of missing data before and after the data-filling process was done\n"
   ]
  },
  {
   "cell_type": "code",
   "execution_count": 281,
   "id": "97a25a71-d631-4396-97a3-256ccf9b504d",
   "metadata": {},
   "outputs": [],
   "source": [
    "df2 = df.isna().mean() * 100"
   ]
  },
  {
   "cell_type": "code",
   "execution_count": 283,
   "id": "d5e95233-dc3e-48ac-bc3f-fa161ebe4820",
   "metadata": {},
   "outputs": [
    {
     "data": {
      "text/plain": [
       "District code                    0.0000\n",
       "State_UT                         0.0000\n",
       "District                         0.0000\n",
       "Population                       0.0000\n",
       "Male                             0.0000\n",
       "                                  ...  \n",
       "Power_Parity_Rs_330000_425000    0.0000\n",
       "Power_Parity_Rs_425000_545000    0.0000\n",
       "Power_Parity_Rs_330000_545000    0.0000\n",
       "Power_Parity_Above_Rs_545000     4.6875\n",
       "Total_Power_Parity               0.0000\n",
       "Length: 118, dtype: float64"
      ]
     },
     "execution_count": 283,
     "metadata": {},
     "output_type": "execute_result"
    }
   ],
   "source": [
    "df2 #After finding missing data using formulas identified"
   ]
  },
  {
   "cell_type": "code",
   "execution_count": 285,
   "id": "b4087169-ae72-46f2-9c53-56395193db74",
   "metadata": {},
   "outputs": [
    {
     "data": {
      "text/plain": [
       "District code                    0.00000\n",
       "State_UT                         0.00000\n",
       "District                         0.00000\n",
       "Population                       4.68750\n",
       "Male                             4.68750\n",
       "                                  ...   \n",
       "Power_Parity_Rs_330000_425000    5.15625\n",
       "Power_Parity_Rs_425000_545000    4.68750\n",
       "Power_Parity_Rs_330000_545000    3.59375\n",
       "Power_Parity_Above_Rs_545000     4.68750\n",
       "Total_Power_Parity               5.00000\n",
       "Length: 118, dtype: float64"
      ]
     },
     "execution_count": 285,
     "metadata": {},
     "output_type": "execute_result"
    }
   ],
   "source": [
    "df1 #Before handling missing data"
   ]
  },
  {
   "cell_type": "code",
   "execution_count": 287,
   "id": "34e32f9a-4773-4eb4-96a9-9e45d6105830",
   "metadata": {},
   "outputs": [],
   "source": [
    "df3 = df.fillna(0).isna().mean() #Filling the remaining missing data with zero making it easier for performing SQL operations/calculations"
   ]
  },
  {
   "cell_type": "code",
   "execution_count": 289,
   "id": "ce09a1c4-6279-4524-80ab-f92e342a2c78",
   "metadata": {},
   "outputs": [
    {
     "data": {
      "text/plain": [
       "District code                    0.0\n",
       "State_UT                         0.0\n",
       "District                         0.0\n",
       "Population                       0.0\n",
       "Male                             0.0\n",
       "                                ... \n",
       "Power_Parity_Rs_330000_425000    0.0\n",
       "Power_Parity_Rs_425000_545000    0.0\n",
       "Power_Parity_Rs_330000_545000    0.0\n",
       "Power_Parity_Above_Rs_545000     0.0\n",
       "Total_Power_Parity               0.0\n",
       "Length: 118, dtype: float64"
      ]
     },
     "execution_count": 289,
     "metadata": {},
     "output_type": "execute_result"
    }
   ],
   "source": [
    "df3"
   ]
  },
  {
   "cell_type": "markdown",
   "id": "587d6348-02f3-4601-b177-34cfaf31a775",
   "metadata": {},
   "source": [
    "# Task 5: Save Data to MongoDB"
   ]
  },
  {
   "cell_type": "code",
   "execution_count": 292,
   "id": "fc7ff7e1-ca54-4222-babc-b5466352cf87",
   "metadata": {},
   "outputs": [],
   "source": [
    "from pymongo import MongoClient"
   ]
  },
  {
   "cell_type": "code",
   "execution_count": 294,
   "id": "7d60d8dd-6143-4fd9-b2c2-98d217085282",
   "metadata": {},
   "outputs": [],
   "source": [
    "client = MongoClient(\"mongodb://localhost:27017/\")"
   ]
  },
  {
   "cell_type": "code",
   "execution_count": 296,
   "id": "3aa86b2c-f5da-4c48-8112-ec44cd7e0821",
   "metadata": {},
   "outputs": [],
   "source": [
    "db = client['Guvi']"
   ]
  },
  {
   "cell_type": "code",
   "execution_count": 298,
   "id": "08aef684-f5be-456a-852f-1319a9593d85",
   "metadata": {},
   "outputs": [],
   "source": [
    "collection = db['census']"
   ]
  },
  {
   "cell_type": "code",
   "execution_count": 300,
   "id": "292df3f1-948e-4a9f-8d57-0475bdb140aa",
   "metadata": {},
   "outputs": [
    {
     "data": {
      "text/plain": [
       "Collection(Database(MongoClient(host=['localhost:27017'], document_class=dict, tz_aware=False, connect=True), 'Guvi'), 'census')"
      ]
     },
     "execution_count": 300,
     "metadata": {},
     "output_type": "execute_result"
    }
   ],
   "source": [
    "collection"
   ]
  },
  {
   "cell_type": "code",
   "execution_count": 302,
   "id": "437e1fed-2d15-475f-8296-1dace7d55008",
   "metadata": {
    "scrolled": true
   },
   "outputs": [
    {
     "data": {
      "text/plain": [
       "InsertManyResult([ObjectId('67ac55453abb9f21eaaaa245'), ObjectId('67ac55453abb9f21eaaaa246'), ObjectId('67ac55453abb9f21eaaaa247'), ObjectId('67ac55453abb9f21eaaaa248'), ObjectId('67ac55453abb9f21eaaaa249'), ObjectId('67ac55453abb9f21eaaaa24a'), ObjectId('67ac55453abb9f21eaaaa24b'), ObjectId('67ac55453abb9f21eaaaa24c'), ObjectId('67ac55453abb9f21eaaaa24d'), ObjectId('67ac55453abb9f21eaaaa24e'), ObjectId('67ac55453abb9f21eaaaa24f'), ObjectId('67ac55453abb9f21eaaaa250'), ObjectId('67ac55453abb9f21eaaaa251'), ObjectId('67ac55453abb9f21eaaaa252'), ObjectId('67ac55453abb9f21eaaaa253'), ObjectId('67ac55453abb9f21eaaaa254'), ObjectId('67ac55453abb9f21eaaaa255'), ObjectId('67ac55453abb9f21eaaaa256'), ObjectId('67ac55453abb9f21eaaaa257'), ObjectId('67ac55453abb9f21eaaaa258'), ObjectId('67ac55453abb9f21eaaaa259'), ObjectId('67ac55453abb9f21eaaaa25a'), ObjectId('67ac55453abb9f21eaaaa25b'), ObjectId('67ac55453abb9f21eaaaa25c'), ObjectId('67ac55453abb9f21eaaaa25d'), ObjectId('67ac55453abb9f21eaaaa25e'), ObjectId('67ac55453abb9f21eaaaa25f'), ObjectId('67ac55453abb9f21eaaaa260'), ObjectId('67ac55453abb9f21eaaaa261'), ObjectId('67ac55453abb9f21eaaaa262'), ObjectId('67ac55453abb9f21eaaaa263'), ObjectId('67ac55453abb9f21eaaaa264'), ObjectId('67ac55453abb9f21eaaaa265'), ObjectId('67ac55453abb9f21eaaaa266'), ObjectId('67ac55453abb9f21eaaaa267'), ObjectId('67ac55453abb9f21eaaaa268'), ObjectId('67ac55453abb9f21eaaaa269'), ObjectId('67ac55453abb9f21eaaaa26a'), ObjectId('67ac55453abb9f21eaaaa26b'), ObjectId('67ac55453abb9f21eaaaa26c'), ObjectId('67ac55453abb9f21eaaaa26d'), ObjectId('67ac55453abb9f21eaaaa26e'), ObjectId('67ac55453abb9f21eaaaa26f'), ObjectId('67ac55453abb9f21eaaaa270'), ObjectId('67ac55453abb9f21eaaaa271'), ObjectId('67ac55453abb9f21eaaaa272'), ObjectId('67ac55453abb9f21eaaaa273'), ObjectId('67ac55453abb9f21eaaaa274'), ObjectId('67ac55453abb9f21eaaaa275'), ObjectId('67ac55453abb9f21eaaaa276'), ObjectId('67ac55453abb9f21eaaaa277'), ObjectId('67ac55453abb9f21eaaaa278'), ObjectId('67ac55453abb9f21eaaaa279'), ObjectId('67ac55453abb9f21eaaaa27a'), ObjectId('67ac55453abb9f21eaaaa27b'), ObjectId('67ac55453abb9f21eaaaa27c'), ObjectId('67ac55453abb9f21eaaaa27d'), ObjectId('67ac55453abb9f21eaaaa27e'), ObjectId('67ac55453abb9f21eaaaa27f'), ObjectId('67ac55453abb9f21eaaaa280'), ObjectId('67ac55453abb9f21eaaaa281'), ObjectId('67ac55453abb9f21eaaaa282'), ObjectId('67ac55453abb9f21eaaaa283'), ObjectId('67ac55453abb9f21eaaaa284'), ObjectId('67ac55453abb9f21eaaaa285'), ObjectId('67ac55453abb9f21eaaaa286'), ObjectId('67ac55453abb9f21eaaaa287'), ObjectId('67ac55453abb9f21eaaaa288'), ObjectId('67ac55453abb9f21eaaaa289'), ObjectId('67ac55453abb9f21eaaaa28a'), ObjectId('67ac55453abb9f21eaaaa28b'), ObjectId('67ac55453abb9f21eaaaa28c'), ObjectId('67ac55453abb9f21eaaaa28d'), ObjectId('67ac55453abb9f21eaaaa28e'), ObjectId('67ac55453abb9f21eaaaa28f'), ObjectId('67ac55453abb9f21eaaaa290'), ObjectId('67ac55453abb9f21eaaaa291'), ObjectId('67ac55453abb9f21eaaaa292'), ObjectId('67ac55453abb9f21eaaaa293'), ObjectId('67ac55453abb9f21eaaaa294'), ObjectId('67ac55453abb9f21eaaaa295'), ObjectId('67ac55453abb9f21eaaaa296'), ObjectId('67ac55453abb9f21eaaaa297'), ObjectId('67ac55453abb9f21eaaaa298'), ObjectId('67ac55453abb9f21eaaaa299'), ObjectId('67ac55453abb9f21eaaaa29a'), ObjectId('67ac55453abb9f21eaaaa29b'), ObjectId('67ac55453abb9f21eaaaa29c'), ObjectId('67ac55453abb9f21eaaaa29d'), ObjectId('67ac55453abb9f21eaaaa29e'), ObjectId('67ac55453abb9f21eaaaa29f'), ObjectId('67ac55453abb9f21eaaaa2a0'), ObjectId('67ac55453abb9f21eaaaa2a1'), ObjectId('67ac55453abb9f21eaaaa2a2'), ObjectId('67ac55453abb9f21eaaaa2a3'), ObjectId('67ac55453abb9f21eaaaa2a4'), ObjectId('67ac55453abb9f21eaaaa2a5'), ObjectId('67ac55453abb9f21eaaaa2a6'), ObjectId('67ac55453abb9f21eaaaa2a7'), ObjectId('67ac55453abb9f21eaaaa2a8'), ObjectId('67ac55453abb9f21eaaaa2a9'), ObjectId('67ac55453abb9f21eaaaa2aa'), ObjectId('67ac55453abb9f21eaaaa2ab'), ObjectId('67ac55453abb9f21eaaaa2ac'), ObjectId('67ac55453abb9f21eaaaa2ad'), ObjectId('67ac55453abb9f21eaaaa2ae'), ObjectId('67ac55453abb9f21eaaaa2af'), ObjectId('67ac55453abb9f21eaaaa2b0'), ObjectId('67ac55453abb9f21eaaaa2b1'), ObjectId('67ac55453abb9f21eaaaa2b2'), ObjectId('67ac55453abb9f21eaaaa2b3'), ObjectId('67ac55453abb9f21eaaaa2b4'), ObjectId('67ac55453abb9f21eaaaa2b5'), ObjectId('67ac55453abb9f21eaaaa2b6'), ObjectId('67ac55453abb9f21eaaaa2b7'), ObjectId('67ac55453abb9f21eaaaa2b8'), ObjectId('67ac55453abb9f21eaaaa2b9'), ObjectId('67ac55453abb9f21eaaaa2ba'), ObjectId('67ac55453abb9f21eaaaa2bb'), ObjectId('67ac55453abb9f21eaaaa2bc'), ObjectId('67ac55453abb9f21eaaaa2bd'), ObjectId('67ac55453abb9f21eaaaa2be'), ObjectId('67ac55453abb9f21eaaaa2bf'), ObjectId('67ac55453abb9f21eaaaa2c0'), ObjectId('67ac55453abb9f21eaaaa2c1'), ObjectId('67ac55453abb9f21eaaaa2c2'), ObjectId('67ac55453abb9f21eaaaa2c3'), ObjectId('67ac55453abb9f21eaaaa2c4'), ObjectId('67ac55453abb9f21eaaaa2c5'), ObjectId('67ac55453abb9f21eaaaa2c6'), ObjectId('67ac55453abb9f21eaaaa2c7'), ObjectId('67ac55453abb9f21eaaaa2c8'), ObjectId('67ac55453abb9f21eaaaa2c9'), ObjectId('67ac55453abb9f21eaaaa2ca'), ObjectId('67ac55453abb9f21eaaaa2cb'), ObjectId('67ac55453abb9f21eaaaa2cc'), ObjectId('67ac55453abb9f21eaaaa2cd'), ObjectId('67ac55453abb9f21eaaaa2ce'), ObjectId('67ac55453abb9f21eaaaa2cf'), ObjectId('67ac55453abb9f21eaaaa2d0'), ObjectId('67ac55453abb9f21eaaaa2d1'), ObjectId('67ac55453abb9f21eaaaa2d2'), ObjectId('67ac55453abb9f21eaaaa2d3'), ObjectId('67ac55453abb9f21eaaaa2d4'), ObjectId('67ac55453abb9f21eaaaa2d5'), ObjectId('67ac55453abb9f21eaaaa2d6'), ObjectId('67ac55453abb9f21eaaaa2d7'), ObjectId('67ac55453abb9f21eaaaa2d8'), ObjectId('67ac55453abb9f21eaaaa2d9'), ObjectId('67ac55453abb9f21eaaaa2da'), ObjectId('67ac55453abb9f21eaaaa2db'), ObjectId('67ac55453abb9f21eaaaa2dc'), ObjectId('67ac55453abb9f21eaaaa2dd'), ObjectId('67ac55453abb9f21eaaaa2de'), ObjectId('67ac55453abb9f21eaaaa2df'), ObjectId('67ac55453abb9f21eaaaa2e0'), ObjectId('67ac55453abb9f21eaaaa2e1'), ObjectId('67ac55453abb9f21eaaaa2e2'), ObjectId('67ac55453abb9f21eaaaa2e3'), ObjectId('67ac55453abb9f21eaaaa2e4'), ObjectId('67ac55453abb9f21eaaaa2e5'), ObjectId('67ac55453abb9f21eaaaa2e6'), ObjectId('67ac55453abb9f21eaaaa2e7'), ObjectId('67ac55453abb9f21eaaaa2e8'), ObjectId('67ac55453abb9f21eaaaa2e9'), ObjectId('67ac55453abb9f21eaaaa2ea'), ObjectId('67ac55453abb9f21eaaaa2eb'), ObjectId('67ac55453abb9f21eaaaa2ec'), ObjectId('67ac55453abb9f21eaaaa2ed'), ObjectId('67ac55453abb9f21eaaaa2ee'), ObjectId('67ac55453abb9f21eaaaa2ef'), ObjectId('67ac55453abb9f21eaaaa2f0'), ObjectId('67ac55453abb9f21eaaaa2f1'), ObjectId('67ac55453abb9f21eaaaa2f2'), ObjectId('67ac55453abb9f21eaaaa2f3'), ObjectId('67ac55453abb9f21eaaaa2f4'), ObjectId('67ac55453abb9f21eaaaa2f5'), ObjectId('67ac55453abb9f21eaaaa2f6'), ObjectId('67ac55453abb9f21eaaaa2f7'), ObjectId('67ac55453abb9f21eaaaa2f8'), ObjectId('67ac55453abb9f21eaaaa2f9'), ObjectId('67ac55453abb9f21eaaaa2fa'), ObjectId('67ac55453abb9f21eaaaa2fb'), ObjectId('67ac55453abb9f21eaaaa2fc'), ObjectId('67ac55453abb9f21eaaaa2fd'), ObjectId('67ac55453abb9f21eaaaa2fe'), ObjectId('67ac55453abb9f21eaaaa2ff'), ObjectId('67ac55453abb9f21eaaaa300'), ObjectId('67ac55453abb9f21eaaaa301'), ObjectId('67ac55453abb9f21eaaaa302'), ObjectId('67ac55453abb9f21eaaaa303'), ObjectId('67ac55453abb9f21eaaaa304'), ObjectId('67ac55453abb9f21eaaaa305'), ObjectId('67ac55453abb9f21eaaaa306'), ObjectId('67ac55453abb9f21eaaaa307'), ObjectId('67ac55453abb9f21eaaaa308'), ObjectId('67ac55453abb9f21eaaaa309'), ObjectId('67ac55453abb9f21eaaaa30a'), ObjectId('67ac55453abb9f21eaaaa30b'), ObjectId('67ac55453abb9f21eaaaa30c'), ObjectId('67ac55453abb9f21eaaaa30d'), ObjectId('67ac55453abb9f21eaaaa30e'), ObjectId('67ac55453abb9f21eaaaa30f'), ObjectId('67ac55453abb9f21eaaaa310'), ObjectId('67ac55453abb9f21eaaaa311'), ObjectId('67ac55453abb9f21eaaaa312'), ObjectId('67ac55453abb9f21eaaaa313'), ObjectId('67ac55453abb9f21eaaaa314'), ObjectId('67ac55453abb9f21eaaaa315'), ObjectId('67ac55453abb9f21eaaaa316'), ObjectId('67ac55453abb9f21eaaaa317'), ObjectId('67ac55453abb9f21eaaaa318'), ObjectId('67ac55453abb9f21eaaaa319'), ObjectId('67ac55453abb9f21eaaaa31a'), ObjectId('67ac55453abb9f21eaaaa31b'), ObjectId('67ac55453abb9f21eaaaa31c'), ObjectId('67ac55453abb9f21eaaaa31d'), ObjectId('67ac55453abb9f21eaaaa31e'), ObjectId('67ac55453abb9f21eaaaa31f'), ObjectId('67ac55453abb9f21eaaaa320'), ObjectId('67ac55453abb9f21eaaaa321'), ObjectId('67ac55453abb9f21eaaaa322'), ObjectId('67ac55453abb9f21eaaaa323'), ObjectId('67ac55453abb9f21eaaaa324'), ObjectId('67ac55453abb9f21eaaaa325'), ObjectId('67ac55453abb9f21eaaaa326'), ObjectId('67ac55453abb9f21eaaaa327'), ObjectId('67ac55453abb9f21eaaaa328'), ObjectId('67ac55453abb9f21eaaaa329'), ObjectId('67ac55453abb9f21eaaaa32a'), ObjectId('67ac55453abb9f21eaaaa32b'), ObjectId('67ac55453abb9f21eaaaa32c'), ObjectId('67ac55453abb9f21eaaaa32d'), ObjectId('67ac55453abb9f21eaaaa32e'), ObjectId('67ac55453abb9f21eaaaa32f'), ObjectId('67ac55453abb9f21eaaaa330'), ObjectId('67ac55453abb9f21eaaaa331'), ObjectId('67ac55453abb9f21eaaaa332'), ObjectId('67ac55453abb9f21eaaaa333'), ObjectId('67ac55453abb9f21eaaaa334'), ObjectId('67ac55453abb9f21eaaaa335'), ObjectId('67ac55453abb9f21eaaaa336'), ObjectId('67ac55453abb9f21eaaaa337'), ObjectId('67ac55453abb9f21eaaaa338'), ObjectId('67ac55453abb9f21eaaaa339'), ObjectId('67ac55453abb9f21eaaaa33a'), ObjectId('67ac55453abb9f21eaaaa33b'), ObjectId('67ac55453abb9f21eaaaa33c'), ObjectId('67ac55453abb9f21eaaaa33d'), ObjectId('67ac55453abb9f21eaaaa33e'), ObjectId('67ac55453abb9f21eaaaa33f'), ObjectId('67ac55453abb9f21eaaaa340'), ObjectId('67ac55453abb9f21eaaaa341'), ObjectId('67ac55453abb9f21eaaaa342'), ObjectId('67ac55453abb9f21eaaaa343'), ObjectId('67ac55453abb9f21eaaaa344'), ObjectId('67ac55453abb9f21eaaaa345'), ObjectId('67ac55453abb9f21eaaaa346'), ObjectId('67ac55453abb9f21eaaaa347'), ObjectId('67ac55453abb9f21eaaaa348'), ObjectId('67ac55453abb9f21eaaaa349'), ObjectId('67ac55453abb9f21eaaaa34a'), ObjectId('67ac55453abb9f21eaaaa34b'), ObjectId('67ac55453abb9f21eaaaa34c'), ObjectId('67ac55453abb9f21eaaaa34d'), ObjectId('67ac55453abb9f21eaaaa34e'), ObjectId('67ac55453abb9f21eaaaa34f'), ObjectId('67ac55453abb9f21eaaaa350'), ObjectId('67ac55453abb9f21eaaaa351'), ObjectId('67ac55453abb9f21eaaaa352'), ObjectId('67ac55453abb9f21eaaaa353'), ObjectId('67ac55453abb9f21eaaaa354'), ObjectId('67ac55453abb9f21eaaaa355'), ObjectId('67ac55453abb9f21eaaaa356'), ObjectId('67ac55453abb9f21eaaaa357'), ObjectId('67ac55453abb9f21eaaaa358'), ObjectId('67ac55453abb9f21eaaaa359'), ObjectId('67ac55453abb9f21eaaaa35a'), ObjectId('67ac55453abb9f21eaaaa35b'), ObjectId('67ac55453abb9f21eaaaa35c'), ObjectId('67ac55453abb9f21eaaaa35d'), ObjectId('67ac55453abb9f21eaaaa35e'), ObjectId('67ac55453abb9f21eaaaa35f'), ObjectId('67ac55453abb9f21eaaaa360'), ObjectId('67ac55453abb9f21eaaaa361'), ObjectId('67ac55453abb9f21eaaaa362'), ObjectId('67ac55453abb9f21eaaaa363'), ObjectId('67ac55453abb9f21eaaaa364'), ObjectId('67ac55453abb9f21eaaaa365'), ObjectId('67ac55453abb9f21eaaaa366'), ObjectId('67ac55453abb9f21eaaaa367'), ObjectId('67ac55453abb9f21eaaaa368'), ObjectId('67ac55453abb9f21eaaaa369'), ObjectId('67ac55453abb9f21eaaaa36a'), ObjectId('67ac55453abb9f21eaaaa36b'), ObjectId('67ac55453abb9f21eaaaa36c'), ObjectId('67ac55453abb9f21eaaaa36d'), ObjectId('67ac55453abb9f21eaaaa36e'), ObjectId('67ac55453abb9f21eaaaa36f'), ObjectId('67ac55453abb9f21eaaaa370'), ObjectId('67ac55453abb9f21eaaaa371'), ObjectId('67ac55453abb9f21eaaaa372'), ObjectId('67ac55453abb9f21eaaaa373'), ObjectId('67ac55453abb9f21eaaaa374'), ObjectId('67ac55453abb9f21eaaaa375'), ObjectId('67ac55453abb9f21eaaaa376'), ObjectId('67ac55453abb9f21eaaaa377'), ObjectId('67ac55453abb9f21eaaaa378'), ObjectId('67ac55453abb9f21eaaaa379'), ObjectId('67ac55453abb9f21eaaaa37a'), ObjectId('67ac55453abb9f21eaaaa37b'), ObjectId('67ac55453abb9f21eaaaa37c'), ObjectId('67ac55453abb9f21eaaaa37d'), ObjectId('67ac55453abb9f21eaaaa37e'), ObjectId('67ac55453abb9f21eaaaa37f'), ObjectId('67ac55453abb9f21eaaaa380'), ObjectId('67ac55453abb9f21eaaaa381'), ObjectId('67ac55453abb9f21eaaaa382'), ObjectId('67ac55453abb9f21eaaaa383'), ObjectId('67ac55453abb9f21eaaaa384'), ObjectId('67ac55453abb9f21eaaaa385'), ObjectId('67ac55453abb9f21eaaaa386'), ObjectId('67ac55453abb9f21eaaaa387'), ObjectId('67ac55453abb9f21eaaaa388'), ObjectId('67ac55453abb9f21eaaaa389'), ObjectId('67ac55453abb9f21eaaaa38a'), ObjectId('67ac55453abb9f21eaaaa38b'), ObjectId('67ac55453abb9f21eaaaa38c'), ObjectId('67ac55453abb9f21eaaaa38d'), ObjectId('67ac55453abb9f21eaaaa38e'), ObjectId('67ac55453abb9f21eaaaa38f'), ObjectId('67ac55453abb9f21eaaaa390'), ObjectId('67ac55453abb9f21eaaaa391'), ObjectId('67ac55453abb9f21eaaaa392'), ObjectId('67ac55453abb9f21eaaaa393'), ObjectId('67ac55453abb9f21eaaaa394'), ObjectId('67ac55453abb9f21eaaaa395'), ObjectId('67ac55453abb9f21eaaaa396'), ObjectId('67ac55453abb9f21eaaaa397'), ObjectId('67ac55453abb9f21eaaaa398'), ObjectId('67ac55453abb9f21eaaaa399'), ObjectId('67ac55453abb9f21eaaaa39a'), ObjectId('67ac55453abb9f21eaaaa39b'), ObjectId('67ac55453abb9f21eaaaa39c'), ObjectId('67ac55453abb9f21eaaaa39d'), ObjectId('67ac55453abb9f21eaaaa39e'), ObjectId('67ac55453abb9f21eaaaa39f'), ObjectId('67ac55453abb9f21eaaaa3a0'), ObjectId('67ac55453abb9f21eaaaa3a1'), ObjectId('67ac55453abb9f21eaaaa3a2'), ObjectId('67ac55453abb9f21eaaaa3a3'), ObjectId('67ac55453abb9f21eaaaa3a4'), ObjectId('67ac55453abb9f21eaaaa3a5'), ObjectId('67ac55453abb9f21eaaaa3a6'), ObjectId('67ac55453abb9f21eaaaa3a7'), ObjectId('67ac55453abb9f21eaaaa3a8'), ObjectId('67ac55453abb9f21eaaaa3a9'), ObjectId('67ac55453abb9f21eaaaa3aa'), ObjectId('67ac55453abb9f21eaaaa3ab'), ObjectId('67ac55453abb9f21eaaaa3ac'), ObjectId('67ac55453abb9f21eaaaa3ad'), ObjectId('67ac55453abb9f21eaaaa3ae'), ObjectId('67ac55453abb9f21eaaaa3af'), ObjectId('67ac55453abb9f21eaaaa3b0'), ObjectId('67ac55453abb9f21eaaaa3b1'), ObjectId('67ac55453abb9f21eaaaa3b2'), ObjectId('67ac55453abb9f21eaaaa3b3'), ObjectId('67ac55453abb9f21eaaaa3b4'), ObjectId('67ac55453abb9f21eaaaa3b5'), ObjectId('67ac55453abb9f21eaaaa3b6'), ObjectId('67ac55453abb9f21eaaaa3b7'), ObjectId('67ac55453abb9f21eaaaa3b8'), ObjectId('67ac55453abb9f21eaaaa3b9'), ObjectId('67ac55453abb9f21eaaaa3ba'), ObjectId('67ac55453abb9f21eaaaa3bb'), ObjectId('67ac55453abb9f21eaaaa3bc'), ObjectId('67ac55453abb9f21eaaaa3bd'), ObjectId('67ac55453abb9f21eaaaa3be'), ObjectId('67ac55453abb9f21eaaaa3bf'), ObjectId('67ac55453abb9f21eaaaa3c0'), ObjectId('67ac55453abb9f21eaaaa3c1'), ObjectId('67ac55453abb9f21eaaaa3c2'), ObjectId('67ac55453abb9f21eaaaa3c3'), ObjectId('67ac55453abb9f21eaaaa3c4'), ObjectId('67ac55453abb9f21eaaaa3c5'), ObjectId('67ac55453abb9f21eaaaa3c6'), ObjectId('67ac55453abb9f21eaaaa3c7'), ObjectId('67ac55453abb9f21eaaaa3c8'), ObjectId('67ac55453abb9f21eaaaa3c9'), ObjectId('67ac55453abb9f21eaaaa3ca'), ObjectId('67ac55453abb9f21eaaaa3cb'), ObjectId('67ac55453abb9f21eaaaa3cc'), ObjectId('67ac55453abb9f21eaaaa3cd'), ObjectId('67ac55453abb9f21eaaaa3ce'), ObjectId('67ac55453abb9f21eaaaa3cf'), ObjectId('67ac55453abb9f21eaaaa3d0'), ObjectId('67ac55453abb9f21eaaaa3d1'), ObjectId('67ac55453abb9f21eaaaa3d2'), ObjectId('67ac55453abb9f21eaaaa3d3'), ObjectId('67ac55453abb9f21eaaaa3d4'), ObjectId('67ac55453abb9f21eaaaa3d5'), ObjectId('67ac55453abb9f21eaaaa3d6'), ObjectId('67ac55453abb9f21eaaaa3d7'), ObjectId('67ac55453abb9f21eaaaa3d8'), ObjectId('67ac55453abb9f21eaaaa3d9'), ObjectId('67ac55453abb9f21eaaaa3da'), ObjectId('67ac55453abb9f21eaaaa3db'), ObjectId('67ac55453abb9f21eaaaa3dc'), ObjectId('67ac55453abb9f21eaaaa3dd'), ObjectId('67ac55453abb9f21eaaaa3de'), ObjectId('67ac55453abb9f21eaaaa3df'), ObjectId('67ac55453abb9f21eaaaa3e0'), ObjectId('67ac55453abb9f21eaaaa3e1'), ObjectId('67ac55453abb9f21eaaaa3e2'), ObjectId('67ac55453abb9f21eaaaa3e3'), ObjectId('67ac55453abb9f21eaaaa3e4'), ObjectId('67ac55453abb9f21eaaaa3e5'), ObjectId('67ac55453abb9f21eaaaa3e6'), ObjectId('67ac55453abb9f21eaaaa3e7'), ObjectId('67ac55453abb9f21eaaaa3e8'), ObjectId('67ac55453abb9f21eaaaa3e9'), ObjectId('67ac55453abb9f21eaaaa3ea'), ObjectId('67ac55453abb9f21eaaaa3eb'), ObjectId('67ac55453abb9f21eaaaa3ec'), ObjectId('67ac55453abb9f21eaaaa3ed'), ObjectId('67ac55453abb9f21eaaaa3ee'), ObjectId('67ac55453abb9f21eaaaa3ef'), ObjectId('67ac55453abb9f21eaaaa3f0'), ObjectId('67ac55453abb9f21eaaaa3f1'), ObjectId('67ac55453abb9f21eaaaa3f2'), ObjectId('67ac55453abb9f21eaaaa3f3'), ObjectId('67ac55453abb9f21eaaaa3f4'), ObjectId('67ac55453abb9f21eaaaa3f5'), ObjectId('67ac55453abb9f21eaaaa3f6'), ObjectId('67ac55453abb9f21eaaaa3f7'), ObjectId('67ac55453abb9f21eaaaa3f8'), ObjectId('67ac55453abb9f21eaaaa3f9'), ObjectId('67ac55453abb9f21eaaaa3fa'), ObjectId('67ac55453abb9f21eaaaa3fb'), ObjectId('67ac55453abb9f21eaaaa3fc'), ObjectId('67ac55453abb9f21eaaaa3fd'), ObjectId('67ac55453abb9f21eaaaa3fe'), ObjectId('67ac55453abb9f21eaaaa3ff'), ObjectId('67ac55453abb9f21eaaaa400'), ObjectId('67ac55453abb9f21eaaaa401'), ObjectId('67ac55453abb9f21eaaaa402'), ObjectId('67ac55453abb9f21eaaaa403'), ObjectId('67ac55453abb9f21eaaaa404'), ObjectId('67ac55453abb9f21eaaaa405'), ObjectId('67ac55453abb9f21eaaaa406'), ObjectId('67ac55453abb9f21eaaaa407'), ObjectId('67ac55453abb9f21eaaaa408'), ObjectId('67ac55453abb9f21eaaaa409'), ObjectId('67ac55453abb9f21eaaaa40a'), ObjectId('67ac55453abb9f21eaaaa40b'), ObjectId('67ac55453abb9f21eaaaa40c'), ObjectId('67ac55453abb9f21eaaaa40d'), ObjectId('67ac55453abb9f21eaaaa40e'), ObjectId('67ac55453abb9f21eaaaa40f'), ObjectId('67ac55453abb9f21eaaaa410'), ObjectId('67ac55453abb9f21eaaaa411'), ObjectId('67ac55453abb9f21eaaaa412'), ObjectId('67ac55453abb9f21eaaaa413'), ObjectId('67ac55453abb9f21eaaaa414'), ObjectId('67ac55453abb9f21eaaaa415'), ObjectId('67ac55453abb9f21eaaaa416'), ObjectId('67ac55453abb9f21eaaaa417'), ObjectId('67ac55453abb9f21eaaaa418'), ObjectId('67ac55453abb9f21eaaaa419'), ObjectId('67ac55453abb9f21eaaaa41a'), ObjectId('67ac55453abb9f21eaaaa41b'), ObjectId('67ac55453abb9f21eaaaa41c'), ObjectId('67ac55453abb9f21eaaaa41d'), ObjectId('67ac55453abb9f21eaaaa41e'), ObjectId('67ac55453abb9f21eaaaa41f'), ObjectId('67ac55453abb9f21eaaaa420'), ObjectId('67ac55453abb9f21eaaaa421'), ObjectId('67ac55453abb9f21eaaaa422'), ObjectId('67ac55453abb9f21eaaaa423'), ObjectId('67ac55453abb9f21eaaaa424'), ObjectId('67ac55453abb9f21eaaaa425'), ObjectId('67ac55453abb9f21eaaaa426'), ObjectId('67ac55453abb9f21eaaaa427'), ObjectId('67ac55453abb9f21eaaaa428'), ObjectId('67ac55453abb9f21eaaaa429'), ObjectId('67ac55453abb9f21eaaaa42a'), ObjectId('67ac55453abb9f21eaaaa42b'), ObjectId('67ac55453abb9f21eaaaa42c'), ObjectId('67ac55453abb9f21eaaaa42d'), ObjectId('67ac55453abb9f21eaaaa42e'), ObjectId('67ac55453abb9f21eaaaa42f'), ObjectId('67ac55453abb9f21eaaaa430'), ObjectId('67ac55453abb9f21eaaaa431'), ObjectId('67ac55453abb9f21eaaaa432'), ObjectId('67ac55453abb9f21eaaaa433'), ObjectId('67ac55453abb9f21eaaaa434'), ObjectId('67ac55453abb9f21eaaaa435'), ObjectId('67ac55453abb9f21eaaaa436'), ObjectId('67ac55453abb9f21eaaaa437'), ObjectId('67ac55453abb9f21eaaaa438'), ObjectId('67ac55453abb9f21eaaaa439'), ObjectId('67ac55453abb9f21eaaaa43a'), ObjectId('67ac55453abb9f21eaaaa43b'), ObjectId('67ac55453abb9f21eaaaa43c'), ObjectId('67ac55453abb9f21eaaaa43d'), ObjectId('67ac55453abb9f21eaaaa43e'), ObjectId('67ac55453abb9f21eaaaa43f'), ObjectId('67ac55453abb9f21eaaaa440'), ObjectId('67ac55453abb9f21eaaaa441'), ObjectId('67ac55453abb9f21eaaaa442'), ObjectId('67ac55453abb9f21eaaaa443'), ObjectId('67ac55453abb9f21eaaaa444'), ObjectId('67ac55453abb9f21eaaaa445'), ObjectId('67ac55453abb9f21eaaaa446'), ObjectId('67ac55453abb9f21eaaaa447'), ObjectId('67ac55453abb9f21eaaaa448'), ObjectId('67ac55453abb9f21eaaaa449'), ObjectId('67ac55453abb9f21eaaaa44a'), ObjectId('67ac55453abb9f21eaaaa44b'), ObjectId('67ac55453abb9f21eaaaa44c'), ObjectId('67ac55453abb9f21eaaaa44d'), ObjectId('67ac55453abb9f21eaaaa44e'), ObjectId('67ac55453abb9f21eaaaa44f'), ObjectId('67ac55453abb9f21eaaaa450'), ObjectId('67ac55453abb9f21eaaaa451'), ObjectId('67ac55453abb9f21eaaaa452'), ObjectId('67ac55453abb9f21eaaaa453'), ObjectId('67ac55453abb9f21eaaaa454'), ObjectId('67ac55453abb9f21eaaaa455'), ObjectId('67ac55453abb9f21eaaaa456'), ObjectId('67ac55453abb9f21eaaaa457'), ObjectId('67ac55453abb9f21eaaaa458'), ObjectId('67ac55453abb9f21eaaaa459'), ObjectId('67ac55453abb9f21eaaaa45a'), ObjectId('67ac55453abb9f21eaaaa45b'), ObjectId('67ac55453abb9f21eaaaa45c'), ObjectId('67ac55453abb9f21eaaaa45d'), ObjectId('67ac55453abb9f21eaaaa45e'), ObjectId('67ac55453abb9f21eaaaa45f'), ObjectId('67ac55453abb9f21eaaaa460'), ObjectId('67ac55453abb9f21eaaaa461'), ObjectId('67ac55453abb9f21eaaaa462'), ObjectId('67ac55453abb9f21eaaaa463'), ObjectId('67ac55453abb9f21eaaaa464'), ObjectId('67ac55453abb9f21eaaaa465'), ObjectId('67ac55453abb9f21eaaaa466'), ObjectId('67ac55453abb9f21eaaaa467'), ObjectId('67ac55453abb9f21eaaaa468'), ObjectId('67ac55453abb9f21eaaaa469'), ObjectId('67ac55453abb9f21eaaaa46a'), ObjectId('67ac55453abb9f21eaaaa46b'), ObjectId('67ac55453abb9f21eaaaa46c'), ObjectId('67ac55453abb9f21eaaaa46d'), ObjectId('67ac55453abb9f21eaaaa46e'), ObjectId('67ac55453abb9f21eaaaa46f'), ObjectId('67ac55453abb9f21eaaaa470'), ObjectId('67ac55453abb9f21eaaaa471'), ObjectId('67ac55453abb9f21eaaaa472'), ObjectId('67ac55453abb9f21eaaaa473'), ObjectId('67ac55453abb9f21eaaaa474'), ObjectId('67ac55453abb9f21eaaaa475'), ObjectId('67ac55453abb9f21eaaaa476'), ObjectId('67ac55453abb9f21eaaaa477'), ObjectId('67ac55453abb9f21eaaaa478'), ObjectId('67ac55453abb9f21eaaaa479'), ObjectId('67ac55453abb9f21eaaaa47a'), ObjectId('67ac55453abb9f21eaaaa47b'), ObjectId('67ac55453abb9f21eaaaa47c'), ObjectId('67ac55453abb9f21eaaaa47d'), ObjectId('67ac55453abb9f21eaaaa47e'), ObjectId('67ac55453abb9f21eaaaa47f'), ObjectId('67ac55453abb9f21eaaaa480'), ObjectId('67ac55453abb9f21eaaaa481'), ObjectId('67ac55453abb9f21eaaaa482'), ObjectId('67ac55453abb9f21eaaaa483'), ObjectId('67ac55453abb9f21eaaaa484'), ObjectId('67ac55453abb9f21eaaaa485'), ObjectId('67ac55453abb9f21eaaaa486'), ObjectId('67ac55453abb9f21eaaaa487'), ObjectId('67ac55453abb9f21eaaaa488'), ObjectId('67ac55453abb9f21eaaaa489'), ObjectId('67ac55453abb9f21eaaaa48a'), ObjectId('67ac55453abb9f21eaaaa48b'), ObjectId('67ac55453abb9f21eaaaa48c'), ObjectId('67ac55453abb9f21eaaaa48d'), ObjectId('67ac55453abb9f21eaaaa48e'), ObjectId('67ac55453abb9f21eaaaa48f'), ObjectId('67ac55453abb9f21eaaaa490'), ObjectId('67ac55453abb9f21eaaaa491'), ObjectId('67ac55453abb9f21eaaaa492'), ObjectId('67ac55453abb9f21eaaaa493'), ObjectId('67ac55453abb9f21eaaaa494'), ObjectId('67ac55453abb9f21eaaaa495'), ObjectId('67ac55453abb9f21eaaaa496'), ObjectId('67ac55453abb9f21eaaaa497'), ObjectId('67ac55453abb9f21eaaaa498'), ObjectId('67ac55453abb9f21eaaaa499'), ObjectId('67ac55453abb9f21eaaaa49a'), ObjectId('67ac55453abb9f21eaaaa49b'), ObjectId('67ac55453abb9f21eaaaa49c'), ObjectId('67ac55453abb9f21eaaaa49d'), ObjectId('67ac55453abb9f21eaaaa49e'), ObjectId('67ac55453abb9f21eaaaa49f'), ObjectId('67ac55453abb9f21eaaaa4a0'), ObjectId('67ac55453abb9f21eaaaa4a1'), ObjectId('67ac55453abb9f21eaaaa4a2'), ObjectId('67ac55453abb9f21eaaaa4a3'), ObjectId('67ac55453abb9f21eaaaa4a4'), ObjectId('67ac55453abb9f21eaaaa4a5'), ObjectId('67ac55453abb9f21eaaaa4a6'), ObjectId('67ac55453abb9f21eaaaa4a7'), ObjectId('67ac55453abb9f21eaaaa4a8'), ObjectId('67ac55453abb9f21eaaaa4a9'), ObjectId('67ac55453abb9f21eaaaa4aa'), ObjectId('67ac55453abb9f21eaaaa4ab'), ObjectId('67ac55453abb9f21eaaaa4ac'), ObjectId('67ac55453abb9f21eaaaa4ad'), ObjectId('67ac55453abb9f21eaaaa4ae'), ObjectId('67ac55453abb9f21eaaaa4af'), ObjectId('67ac55453abb9f21eaaaa4b0'), ObjectId('67ac55453abb9f21eaaaa4b1'), ObjectId('67ac55453abb9f21eaaaa4b2'), ObjectId('67ac55453abb9f21eaaaa4b3'), ObjectId('67ac55453abb9f21eaaaa4b4'), ObjectId('67ac55453abb9f21eaaaa4b5'), ObjectId('67ac55453abb9f21eaaaa4b6'), ObjectId('67ac55453abb9f21eaaaa4b7'), ObjectId('67ac55453abb9f21eaaaa4b8'), ObjectId('67ac55453abb9f21eaaaa4b9'), ObjectId('67ac55453abb9f21eaaaa4ba'), ObjectId('67ac55453abb9f21eaaaa4bb'), ObjectId('67ac55453abb9f21eaaaa4bc'), ObjectId('67ac55453abb9f21eaaaa4bd'), ObjectId('67ac55453abb9f21eaaaa4be'), ObjectId('67ac55453abb9f21eaaaa4bf'), ObjectId('67ac55453abb9f21eaaaa4c0'), ObjectId('67ac55453abb9f21eaaaa4c1'), ObjectId('67ac55453abb9f21eaaaa4c2'), ObjectId('67ac55453abb9f21eaaaa4c3'), ObjectId('67ac55453abb9f21eaaaa4c4')], acknowledged=True)"
      ]
     },
     "execution_count": 302,
     "metadata": {},
     "output_type": "execute_result"
    }
   ],
   "source": [
    "collection.insert_many(df.to_dict('records'))"
   ]
  },
  {
   "cell_type": "markdown",
   "id": "ecb0cc81-6a63-4d84-98ec-759694f20b0c",
   "metadata": {},
   "source": [
    "# Task 6: Database connection and data upload"
   ]
  },
  {
   "cell_type": "code",
   "execution_count": 305,
   "id": "93be7dc1-c156-497f-a3e7-fa8720d25cd3",
   "metadata": {},
   "outputs": [
    {
     "name": "stdout",
     "output_type": "stream",
     "text": [
      "Connection to MySQL database successful.\n",
      "DataFrame uploaded successfully.\n"
     ]
    }
   ],
   "source": [
    "import pandas as pd\n",
    "import pymysql\n",
    "from pymongo import MongoClient\n",
    "from sqlalchemy import create_engine\n",
    "\n",
    "# Fetch data from MongoDB\n",
    "mongodb_read = list(collection.find())  # Ensure 'collection' is defined\n",
    "mongo_df = pd.DataFrame(mongodb_read)\n",
    "\n",
    "# Drop the '_id' column to avoid conflicts\n",
    "if '_id' in mongo_df.columns:\n",
    "    mongo_df.drop('_id', axis=1, inplace=True)\n",
    "\n",
    "# MySQL Connection Details\n",
    "host = 'localhost'\n",
    "username = 'root'\n",
    "password = '1234'  # Consider using environment variables for security\n",
    "database_name = 'guvi'\n",
    "\n",
    "try:\n",
    "    # Create a connection to MySQL\n",
    "    engine = create_engine(f'mysql+pymysql://{username}:{password}@{host}/{database_name}', pool_pre_ping=True)\n",
    "    \n",
    "    # Check if the connection is successful\n",
    "    with engine.connect() as connection:\n",
    "        print(\"Connection to MySQL database successful.\")\n",
    "        \n",
    "        # Upload the DataFrame to MySQL\n",
    "        mongo_df.to_sql('census', con=engine, if_exists='replace', index=False)\n",
    "        print(\"DataFrame uploaded successfully.\")\n",
    "except Exception as e:\n",
    "    print(f\"Error connecting to or uploading data to MySQL: {e}\")\n"
   ]
  },
  {
   "cell_type": "code",
   "execution_count": null,
   "id": "b627bf83-37dd-45ca-8629-7f74fabdf8e3",
   "metadata": {},
   "outputs": [],
   "source": []
  },
  {
   "cell_type": "code",
   "execution_count": null,
   "id": "24c0142e-e716-4d91-a1a7-cd48d06be317",
   "metadata": {},
   "outputs": [],
   "source": []
  },
  {
   "cell_type": "code",
   "execution_count": null,
   "id": "30f90be0-2530-4916-9c86-82628828b1b6",
   "metadata": {},
   "outputs": [],
   "source": []
  }
 ],
 "metadata": {
  "kernelspec": {
   "display_name": "Python 3 (ipykernel)",
   "language": "python",
   "name": "python3"
  },
  "language_info": {
   "codemirror_mode": {
    "name": "ipython",
    "version": 3
   },
   "file_extension": ".py",
   "mimetype": "text/x-python",
   "name": "python",
   "nbconvert_exporter": "python",
   "pygments_lexer": "ipython3",
   "version": "3.12.7"
  }
 },
 "nbformat": 4,
 "nbformat_minor": 5
}
